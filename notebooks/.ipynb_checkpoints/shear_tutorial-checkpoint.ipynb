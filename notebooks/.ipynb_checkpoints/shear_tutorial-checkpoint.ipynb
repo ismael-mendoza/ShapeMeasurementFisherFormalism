{
 "cells": [
  {
   "cell_type": "code",
   "execution_count": 1,
   "metadata": {
    "collapsed": false
   },
   "outputs": [
    {
     "name": "stdout",
     "output_type": "stream",
     "text": [
      "Populating the interactive namespace from numpy and matplotlib\n"
     ]
    }
   ],
   "source": [
    "%pylab inline"
   ]
  },
  {
   "cell_type": "code",
   "execution_count": 2,
   "metadata": {
    "collapsed": false
   },
   "outputs": [],
   "source": [
    "from subprocess import Popen, PIPE, STDOUT\n",
    "import matplotlib.pyplot as plt\n",
    "import os\n",
    "from copy import deepcopy\n",
    "import galsim "
   ]
  },
  {
   "cell_type": "code",
   "execution_count": 4,
   "metadata": {
    "collapsed": false
   },
   "outputs": [],
   "source": [
    "#directories that would be using \n",
    "repo = '/Users/Ismael/code/lensing/WLFF/'\n",
    "os.chdir(repo)"
   ]
  },
  {
   "cell_type": "code",
   "execution_count": 5,
   "metadata": {
    "collapsed": true
   },
   "outputs": [],
   "source": [
    "#colormap default to use for galaxy \n",
    "cmap = 'RdYlGn'"
   ]
  },
  {
   "cell_type": "code",
   "execution_count": 6,
   "metadata": {
    "collapsed": true
   },
   "outputs": [],
   "source": [
    "def showImage(image,ax=None):\n",
    "    if ax is None: \n",
    "        plt.imshow(image, cmap=cmap,vmax=abs(image).max(),vmin=-abs(image).max(),interpolation='None')\n",
    "    else: \n",
    "        ax.imshow(image, cmap=cmap,vmax=abs(image).max(),vmin=-abs(image).max(),interpolation='None')"
   ]
  },
  {
   "cell_type": "markdown",
   "metadata": {},
   "source": [
    "## Analysis of a single galaxy"
   ]
  },
  {
   "cell_type": "markdown",
   "metadata": {},
   "source": [
    "### Generating a galaxy file"
   ]
  },
  {
   "cell_type": "code",
   "execution_count": 70,
   "metadata": {
    "collapsed": true
   },
   "outputs": [],
   "source": [
    "#parameters of galaxy to draw. \n",
    "model = 'gaussian' #possible options of model and psf_model are in documentation. \n",
    "psf_model = 'psf_gaussian'\n",
    "g1 = .2 \n",
    "g2 = 0.2 \n",
    "hlr = .5 \n",
    "psf_fwhm = .7\n",
    "snr = 20. \n",
    "\n",
    "#project folder name where you want to write galaxy information \n",
    "project1 = 'project-shear'\n",
    "\n",
    "#image parameters \n",
    "pixel_scale=.2 \n",
    "nx = 40\n",
    "ny = 40 \n"
   ]
  },
  {
   "cell_type": "code",
   "execution_count": 71,
   "metadata": {
    "collapsed": false
   },
   "outputs": [
    {
     "name": "stdout",
     "output_type": "stream",
     "text": [
      "\n"
     ]
    }
   ],
   "source": [
    "cmd = 'python generate.py -p {0} -gal 1 --galaxy-model {1} --psf_model {2}  --g1 {3} --g2 {4} --y0 0 --x0 0 \\\n",
    "--flux 1. --psf_flux 1. --hlr {5} --psf_fwhm {6} --snr {7}'.format(project1,model,psf_model,g1,g2,hlr,psf_fwhm,snr)\n",
    "p = Popen(cmd, shell=True, stdin=PIPE, stdout=PIPE, stderr=STDOUT, close_fds=True)\n",
    "output = p.stdout.read()\n",
    "print output"
   ]
  },
  {
   "cell_type": "code",
   "execution_count": 85,
   "metadata": {
    "collapsed": false
   },
   "outputs": [
    {
     "data": {
      "text/plain": [
       "'python generate.py -p project-shear -gal 1 --galaxy-model gaussian --psf_model psf_gaussian  --g1 0.2 --g2 0.2 --y0 0 --x0 0 --flux 1. --psf_flux 1. --hlr 0.5 --psf_fwhm 0.7 --snr 20.0'"
      ]
     },
     "execution_count": 85,
     "metadata": {},
     "output_type": "execute_result"
    }
   ],
   "source": [
    "cmd"
   ]
  },
  {
   "cell_type": "markdown",
   "metadata": {},
   "source": [
    "### Get fisher formalism analysis from the file"
   ]
  },
  {
   "cell_type": "code",
   "execution_count": 72,
   "metadata": {
    "collapsed": false
   },
   "outputs": [],
   "source": [
    "import fisher \n",
    "import galfun "
   ]
  },
  {
   "cell_type": "code",
   "execution_count": 73,
   "metadata": {
    "collapsed": false
   },
   "outputs": [],
   "source": [
    "g_parameters = galfun.GParameters(project1) #extract parameters from file created by generate.py \n",
    "image_renderer = galfun.ImageRenderer(pixel_scale=pixel_scale, nx=nx,ny=ny)\n",
    "fish = fisher.Fisher(g_parameters=g_parameters,image_renderer=image_renderer,snr=snr)"
   ]
  },
  {
   "cell_type": "markdown",
   "metadata": {},
   "source": [
    "### Draw the galaxy generated "
   ]
  },
  {
   "cell_type": "code",
   "execution_count": 74,
   "metadata": {
    "collapsed": false
   },
   "outputs": [
    {
     "data": {
      "text/plain": [
       "<matplotlib.colorbar.Colorbar at 0x10b65a0d0>"
      ]
     },
     "execution_count": 74,
     "metadata": {},
     "output_type": "execute_result"
    },
    {
     "data": {
      "image/png": "[encoded data removed]",
      "text/plain": [
       "<matplotlib.figure.Figure at 0x109170690>"
      ]
     },
     "metadata": {},
     "output_type": "display_data"
    }
   ],
   "source": [
    "#get galaxy image and display it from fisher object. green is positive and red is negative \n",
    "showImage(fish.image.array)\n",
    "plt.colorbar()"
   ]
  },
  {
   "cell_type": "markdown",
   "metadata": {},
   "source": [
    "### Shear functions. "
   ]
  },
  {
   "cell_type": "code",
   "execution_count": 83,
   "metadata": {
    "collapsed": false
   },
   "outputs": [],
   "source": [
    "import os\n",
    "os.chdir(\"/Users/Ismael/code/lensing/WLFF/\")\n",
    "\n",
    "import fisher\n",
    "import galfun\n",
    "from copy import deepcopy\n",
    "import numpy as np\n",
    "\n",
    "\n",
    "def shearEllipticity(g, shear):\n",
    "    \"\"\"\n",
    "    Changes given ellipticity to a sheared ellpticity according to the\n",
    "    formula (14) of paper: http://arxiv.org/abs/1409.6273.\n",
    "    Ellipticity should be given by inputting the two components.\n",
    "    Returns both sheared components of ellpicity.\n",
    "    Uses complex numbers.\n",
    "    \"\"\"\n",
    "    g_s = (g + shear)/(1 + shear.conjugate()*g)\n",
    "    return g_s\n",
    "\n",
    "def shearBias(fish, image_renderer, shear):\n",
    "    \"\"\"Returns the value of the bias of the given lensing shear for the\n",
    "    particular galaxy analyzed by using the ring test. Only works with\n",
    "    a single galaxy profile.\n",
    "    Assume galaxy is parametrized with g1,g2.\n",
    "    \"\"\"\n",
    "    angle_range = (0, 2*np.pi)\n",
    "    steps = 7 #6 points on the ring. excluding theta=2pi\n",
    "    id_params = deepcopy(fish.g_parameters.id_params)\n",
    "    ids = id_params.keys()\n",
    "    id1 = ids[0]\n",
    "    snr = fish.snr\n",
    "    angles = list(np.linspace(angle_range[0], angle_range[1], steps))\n",
    "    angles.pop() #remove 2pi angle redundancy.\n",
    "    biases = []\n",
    "    orig_g1 = id_params[id1]['g1']\n",
    "    orig_g2 = id_params[id1]['g2']\n",
    "    orig_g = complex(orig_g1,orig_g2) #unsheared ellipticity\n",
    "    for angle in angles:\n",
    "        g = complex(abs(orig_g)*math.cos(angle),abs(orig_g)*math.sin(angle))\n",
    "        g_s = shearEllipticity(g, shear) #get sheared components\n",
    "        id_params[id1]['g1'] = g_s.real\n",
    "        id_params[id1]['g2'] = g_s.imag\n",
    "        g_parameters = galfun.GParameters(id_params=id_params)\n",
    "        fish = fisher.Fisher(g_parameters,image_renderer, snr)\n",
    "        bias = complex(fish.biases['g1_'+id1],fish.biases['g2_'+id1])\n",
    "        biases.append(bias)\n",
    "\n",
    "    #return bias(shear) which is average of ellipticity bias\n",
    "    return np.mean(biases)\n",
    "\n",
    "def biasesEllipticities(fish,image_renderer, shear):\n",
    "    \"\"\"Returns a lists of the biases of both ellipticies that are in the process of being sheared.\n",
    "    \"\"\"\n",
    "    angle_range = (0, 2*np.pi)\n",
    "    steps = 7 #6 points on the ring. excluding theta=2pi\n",
    "    id_params = deepcopy(fish.g_parameters.id_params)\n",
    "    ids = id_params.keys()\n",
    "    id1 = ids[0]\n",
    "    snr = fish.snr\n",
    "    angles = list(np.linspace(angle_range[0], angle_range[1], steps))\n",
    "    angles.pop() #remove 2pi angle redundancy.\n",
    "    biases_g1 = []\n",
    "    biases_g2 = []\n",
    "    orig_g1 = id_params[id1]['g1']\n",
    "    orig_g2 = id_params[id1]['g2']\n",
    "    orig_g = complex(orig_g1,orig_g2) #unsheared ellipticity\n",
    "    for angle in angles:\n",
    "        g = complex(abs(orig_e)*np.cos(angle),abs(orig_e)*np.sin(angle))\n",
    "        g_s = shearEllipticity(g, shear) #get sheared components\n",
    "        id_params[id1]['g1'] = g_s.real\n",
    "        id_params[id1]['g2'] = g_s.imag\n",
    "        g_parameters = galfun.GParameters(id_params=id_params)\n",
    "        fish = fisher.Fisher(g_parameters,image_renderer, snr)\n",
    "        biases_g1.append(fish.biases['g1_'+id1])\n",
    "        biases_g2.append(fish.biases['g2_'+id1])\n",
    "\n",
    "    #return bias(g) which is average of ellipticity bias\n",
    "    return biases_e1, biases_e2\n",
    "\n",
    "#get multiplicative and additive biases of shear by doing a linear fit.\n",
    "#we let g2 be a constant  = 0\n",
    "def getMultAddBiasG1(fish, image_renderer):\n",
    "    shear_range = (.0001, .02)\n",
    "    steps = 10 #number of points to plot.\n",
    "    shear_ranges = list(np.linspace(shear_range[0], shear_range[1], steps))\n",
    "    shears = []\n",
    "    bs = []\n",
    "    shear_2 = 0.\n",
    "    for shear_1 in shear_ranges:\n",
    "        shear = complex(shear_1,shear_2)\n",
    "        b = shearBias(fish,image_renderer, shear)\n",
    "        shears.append(shear)\n",
    "        bs.append(b)\n",
    "    shears_real = np.array([shear_i.real for shear_i in shears])\n",
    "    shears_imag = np.array([shear_i.imag for shear_i in shears])\n",
    "    bs_real = np.array([b_i.real for b_i in bs])\n",
    "    bs_imag = np.array([b_i.imag for b_i in bs])\n",
    "    m1, c1 = np.polyfit(shears_real, bs_real,1)\n",
    "#     m2, c2 = np.polyfit(shears_imag, bs_imag, 1)\n",
    "    return (m1, c1)\n",
    "\n",
    "#get multiplicative and additive biases of shear by doing a linear fit.\n",
    "#we let g1 be a constant  = 0\n",
    "def getMultAddBiasG2(fish,image_renderer):\n",
    "    shear_range = (.0001, .02)\n",
    "    steps = 10 #number of points to plot.\n",
    "    shear_ranges = list(np.linspace(shear_range[0], shear_range[1], steps))\n",
    "    shears = []\n",
    "    bs = []\n",
    "    shear_2 = 0\n",
    "    for shear_1 in shear_ranges:\n",
    "        shear = complex(shear_1,shear_2)\n",
    "        b = shearBias(fish,image_renderer, shear)\n",
    "        shears.append(shear)\n",
    "        bs.append(b)\n",
    "    shears_real = np.array([shear_i.real for shear_i in shears])\n",
    "    shears_imag = np.array([shear_i.imag for shear_i in shears])\n",
    "    bs_real = np.array([b_i.real for b_i in bs])\n",
    "    bs_imag = np.array([b_i.imag for b_i in bs])\n",
    "\n",
    "    m1, c1 = np.polyfit(shears_real, bs_real,1)\n",
    "#     m2, c2 = np.polyfit(shears_imag, bs_imag, 1)\n",
    "    return (m1, c1)\n"
   ]
  },
  {
   "cell_type": "code",
   "execution_count": 84,
   "metadata": {
    "collapsed": false
   },
   "outputs": [
    {
     "name": "stdout",
     "output_type": "stream",
     "text": [
      "0.011106554426 5.04304083225e-08\n"
     ]
    }
   ],
   "source": [
    "(m1,c1) = getMultAddBiasG1(fish,image_renderer)\n",
    "\n",
    "\n",
    "print m1,c1\n",
    "\n"
   ]
  },
  {
   "cell_type": "code",
   "execution_count": null,
   "metadata": {
    "collapsed": true
   },
   "outputs": [],
   "source": []
  },
  {
   "cell_type": "code",
   "execution_count": null,
   "metadata": {
    "collapsed": true
   },
   "outputs": [],
   "source": []
  }
 ],
 "metadata": {
  "kernelspec": {
   "display_name": "Python 2",
   "language": "python",
   "name": "python2"
  },
  "language_info": {
   "codemirror_mode": {
    "name": "ipython",
    "version": 2
   },
   "file_extension": ".py",
   "mimetype": "text/x-python",
   "name": "python",
   "nbconvert_exporter": "python",
   "pygments_lexer": "ipython2",
   "version": "2.7.11"
  }
 },
 "nbformat": 4,
 "nbformat_minor": 0
}
