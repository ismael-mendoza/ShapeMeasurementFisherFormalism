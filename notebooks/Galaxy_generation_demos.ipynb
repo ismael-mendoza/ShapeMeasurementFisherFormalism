{
 "cells": [
  {
   "cell_type": "markdown",
   "metadata": {},
   "source": [
    "## Gaussian galaxy and gaussian psf "
   ]
  },
  {
   "cell_type": "code",
   "execution_count": null,
   "metadata": {
    "collapsed": true
   },
   "outputs": [],
   "source": [
    "python generate.py -p project2 -gal 1 --psf_model psf_gaussian --galaxy-model gaussian --e1 .2 --e2 0. --y0 0 --x0 0 \\\n",
    "--flux 1. --psf_flux 1. --hlr .5 --psf_fwhm .7 --snr 20 "
   ]
  },
  {
   "cell_type": "markdown",
   "metadata": {},
   "source": [
    "## Exponential galaxy with Moffat psf"
   ]
  },
  {
   "cell_type": "code",
   "execution_count": null,
   "metadata": {
    "collapsed": true
   },
   "outputs": [],
   "source": [
    "python generate.py -p project3 -gal 1 --psf_model psf_moffat --galaxy-model exponential --e1 .2 --e2 .2 --y0 0 --x0 0 \\\n",
    "--flux 1. --psf_flux 1. --hlr .5 --psf_fwhm .7 --psf_beta 3.0 --snr 20"
   ]
  },
  {
   "cell_type": "markdown",
   "metadata": {},
   "source": [
    "## Bulge+Disk galaxy with a Gaussian Psf "
   ]
  },
  {
   "cell_type": "code",
   "execution_count": 1,
   "metadata": {
    "collapsed": false
   },
   "outputs": [
    {
     "ename": "SyntaxError",
     "evalue": "invalid syntax (<ipython-input-1-58f7da748315>, line 2)",
     "output_type": "error",
     "traceback": [
      "\u001b[0;36m  File \u001b[0;32m\"<ipython-input-1-58f7da748315>\"\u001b[0;36m, line \u001b[0;32m2\u001b[0m\n\u001b[0;31m    python generate.py -p project4 -gal 1 --psf_model gaussian --galaxy-model bulgeDisk --e1 .2 --e2 .2 --y0 0 --x0 0 --flux_d 1. --psf_flux 1. --hlr_b .5 --hlr_d --psf_fwhm .7 --snr 20 --n_d 1 --n_b 4\u001b[0m\n\u001b[0m                  ^\u001b[0m\n\u001b[0;31mSyntaxError\u001b[0m\u001b[0;31m:\u001b[0m invalid syntax\n"
     ]
    }
   ],
   "source": [
    "#we assume that Disk is an exponential profile with n = 1 and a bulge is a de Vacouleur profile with n = 4\n",
    "python generate.py -p project4 -gal 1 --psf_model psf_gaussian --galaxy-model bulgeDisk --e1 .2 --e2 .2 --y0 0 --x0 0 \\\n",
    "--flux_d 1. --psf_flux 1. --hlr_b .5 --hlr_d --psf_fwhm .7 --snr 20 --n_d 1 --n_b 4"
   ]
  },
  {
   "cell_type": "code",
   "execution_count": null,
   "metadata": {
    "collapsed": true
   },
   "outputs": [],
   "source": []
  }
 ],
 "metadata": {
  "kernelspec": {
   "display_name": "Python 2",
   "language": "python",
   "name": "python2"
  },
  "language_info": {
   "codemirror_mode": {
    "name": "ipython",
    "version": 2
   },
   "file_extension": ".py",
   "mimetype": "text/x-python",
   "name": "python",
   "nbconvert_exporter": "python",
   "pygments_lexer": "ipython2",
   "version": "2.7.10"
  }
 },
 "nbformat": 4,
 "nbformat_minor": 0
}
