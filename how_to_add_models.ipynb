{
 "cells": [
  {
   "cell_type": "markdown",
   "metadata": {},
   "source": [
    "## How to add a new galaxy model to the package"
   ]
  },
  {
   "cell_type": "markdown",
   "metadata": {},
   "source": [
    "### For a galaxy "
   ]
  },
  {
   "cell_type": "code",
   "execution_count": 1,
   "metadata": {
    "collapsed": false
   },
   "outputs": [
    {
     "name": "stdout",
     "output_type": "stream",
     "text": [
      "Populating the interactive namespace from numpy and matplotlib\n"
     ]
    }
   ],
   "source": [
    "#use the following template for adding a new galaxy model, \n",
    "class exponential(model):\n",
    "    \n",
    "    #here you specify the parameters that are needed or that might be used to specify the parameter model. \n",
    "    parameters = [\n",
    "        'x0', 'y0',\n",
    "\n",
    "        'flux',\n",
    "\n",
    "        'hlr',\n",
    "        'fwhm',\n",
    "        'sigma',\n",
    "\n",
    "        'e1', 'e2', \n",
    "        'g1', 'g2',\n",
    "        'eta1', 'eta2',\n",
    "        'q','beta'\n",
    "    ]\n",
    "    omit_general = [] #omit from fits results.  \n",
    "    \n",
    "    def __init__(self, params=None, params_omit=None):\n",
    "        model.__init__(self, params, params_omit)\n",
    "\n",
    "    \n",
    "    #here you specify how to to obtain the galaxy model (generally a :galsim:`GSObject`)\n",
    "    #in terms of the params specified above and eventually specified by the user. \n",
    "    def getProfile(self, params):\n",
    "        if 'flux' not in params:\n",
    "            raise ValueError('Did not specify flux')\n",
    "\n",
    "        if 'hlr' in params:\n",
    "            return galsim.Exponential(flux=params['flux'],\n",
    "                                      half_light_radius=params['hlr'])\n",
    "\n",
    "        else:\n",
    "            raise ValueError('Did not specify the size.')\n",
    "            \n",
    "\n",
    "\n",
    "#you just have to add this as a new class to the models.py file. "
   ]
  },
  {
   "cell_type": "markdown",
   "metadata": {
    "collapsed": true
   },
   "source": [
    "### For a psf "
   ]
  },
  {
   "cell_type": "code",
   "execution_count": null,
   "metadata": {
    "collapsed": true
   },
   "outputs": [],
   "source": [
    "class psf_gaussian(psf_model):\n",
    "    \n",
    "    parameters = [\n",
    "        'psf_flux',\n",
    "\n",
    "        'psf_fwhm',\n",
    "\n",
    "        'psf_e1', 'psf_e2'\n",
    "    ]\n",
    "\n",
    "    def __init__(self, params=None):\n",
    "         psf_model.__init__(self, params)\n",
    "\n",
    "    def getProfile(self, params):\n",
    "        if 'psf_hlr' in params:\n",
    "            psf = galsim.Gaussian(\n",
    "                flux=params['psf_flux'],\n",
    "                half_light_radius=params['psf_hlr'])\n",
    "\n",
    "        elif 'psf_sigma' in params:\n",
    "            psf = galsim.Gaussian(flux=params['psf_flux'],\n",
    "                                  sigma=params['psf_sigma'])\n",
    "        elif 'psf_fwhm' in params:\n",
    "            psf = galsim.Gaussian(flux=params['psf_flux'],\n",
    "                                  fwhm=params['psf_fwhm'])\n",
    "        else:\n",
    "            raise ValueError('Size of PSF was not specified.')\n",
    "        return psf"
   ]
  }
 ],
 "metadata": {
  "kernelspec": {
   "display_name": "Python 2",
   "language": "python",
   "name": "python2"
  },
  "language_info": {
   "codemirror_mode": {
    "name": "ipython",
    "version": 2
   },
   "file_extension": ".py",
   "mimetype": "text/x-python",
   "name": "python",
   "nbconvert_exporter": "python",
   "pygments_lexer": "ipython2",
   "version": "2.7.11"
  }
 },
 "nbformat": 4,
 "nbformat_minor": 0
}
