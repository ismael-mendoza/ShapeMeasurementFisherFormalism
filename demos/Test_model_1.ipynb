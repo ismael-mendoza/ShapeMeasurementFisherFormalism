{
 "cells": [
  {
   "cell_type": "code",
   "execution_count": 1,
   "metadata": {
    "collapsed": true
   },
   "outputs": [],
   "source": [
    "import os\n",
    "os.chdir('/Users/Ismael/code/research/repo/')\n",
    "#plot inline\n",
    "%matplotlib inline"
   ]
  },
  {
   "cell_type": "code",
   "execution_count": 2,
   "metadata": {
    "collapsed": false
   },
   "outputs": [
    {
     "name": "stderr",
     "output_type": "stream",
     "text": [
      "/Users/Ismael/lsst/DarwinX86/anaconda/2.2.0/lib/python2.7/site-packages/IPython/kernel/__init__.py:13: ShimWarning: The `IPython.kernel` package has been deprecated. You should import from ipykernel or jupyter_client instead.\n",
      "  \"You should import from ipykernel or jupyter_client instead.\", ShimWarning)\n"
     ]
    }
   ],
   "source": [
    "import models"
   ]
  },
  {
   "cell_type": "code",
   "execution_count": null,
   "metadata": {
    "collapsed": true
   },
   "outputs": [],
   "source": [
    "#this program tests several features of the new models.py program. "
   ]
  },
  {
   "cell_type": "code",
   "execution_count": 3,
   "metadata": {
    "collapsed": false
   },
   "outputs": [
    {
     "name": "stdout",
     "output_type": "stream",
     "text": [
      "['hlr', 'n_d', 'y0', 'fwhm', 'n_b', 'flux_d', 'flux_b', 'delta_theta', 'R_r', 'flux_b/flux_total', 'beta', 'delta_e', 'x0', 'e1', 'e2', 'e', 'eta1', 'eta2', 'flux', 'hlr_b', 'sigma', 'hlr_d']\n",
      "['psf_fwhm', 'psf_flux', 'psf_beta', 'psf_e2', 'psf_e1']\n",
      "['gaussian', 'exponential', 'deVaucouleurs', 'bulgeDisk']\n",
      "['psf_gaussian', 'psf_moffat']\n",
      "['id', 'galaxy_model', 'psf_model', 'hlr', 'n_d', 'y0', 'fwhm', 'n_b', 'flux_d', 'flux_b', 'delta_theta', 'R_r', 'flux_b/flux_total', 'beta', 'delta_e', 'x0', 'e1', 'e2', 'e', 'eta1', 'eta2', 'flux', 'hlr_b', 'sigma', 'hlr_d', 'psf_fwhm', 'psf_flux', 'psf_beta', 'psf_e2', 'psf_e1']\n"
     ]
    }
   ],
   "source": [
    "#check the parameters \n",
    "print models.getGalParameters()\n",
    "print models.getPsfParameters()\n",
    "print models.getAllModels()\n",
    "print models.getAllPsfModels()\n",
    "print models.getFieldnames()"
   ]
  },
  {
   "cell_type": "code",
   "execution_count": null,
   "metadata": {
    "collapsed": true
   },
   "outputs": [],
   "source": [
    "#see if getting a galaxy profile works"
   ]
  },
  {
   "cell_type": "code",
   "execution_count": 5,
   "metadata": {
    "collapsed": false
   },
   "outputs": [],
   "source": [
    "%%bash\n",
    "python generate.py -p project10 -gal 1 --psf_model psf_gaussian --galaxy-model gaussian --e1 .2 --e2 0. --y0 0 --x0 0 \\\n",
    "--flux 1. --psf_flux 1. --hlr .5 --psf_fwhm .7 --snr 20 "
   ]
  },
  {
   "cell_type": "code",
   "execution_count": 7,
   "metadata": {
    "collapsed": false
   },
   "outputs": [
    {
     "name": "stderr",
     "output_type": "stream",
     "text": [
      "Traceback (most recent call last):\n",
      "  File \"display.py\", line 112, in <module>\n",
      "    main()\n",
      "  File \"display.py\", line 80, in main\n",
      "    hide=args.hide)\n",
      "TypeError: __init__() takes exactly 7 arguments (5 given)\n"
     ]
    }
   ],
   "source": [
    "%%bash \n",
    "python display.py --snr 20 -d -p project10"
   ]
  },
  {
   "cell_type": "code",
   "execution_count": null,
   "metadata": {
    "collapsed": true
   },
   "outputs": [],
   "source": []
  }
 ],
 "metadata": {
  "kernelspec": {
   "display_name": "Python 2",
   "language": "python",
   "name": "python2"
  },
  "language_info": {
   "codemirror_mode": {
    "name": "ipython",
    "version": 2
   },
   "file_extension": ".py",
   "mimetype": "text/x-python",
   "name": "python",
   "nbconvert_exporter": "python",
   "pygments_lexer": "ipython2",
   "version": "2.7.10"
  }
 },
 "nbformat": 4,
 "nbformat_minor": 0
}
