{
 "cells": [
  {
   "cell_type": "markdown",
   "metadata": {},
   "source": [
    "## Create galaxy and display it"
   ]
  },
  {
   "cell_type": "code",
   "execution_count": 74,
   "metadata": {
    "collapsed": false
   },
   "outputs": [
    {
     "data": {
      "text/plain": [
       "'/Users/Ismael/code/research/repo'"
      ]
     },
     "execution_count": 74,
     "metadata": {},
     "output_type": "execute_result"
    }
   ],
   "source": [
    "#chdir to where we can import packages.\n",
    "import os\n",
    "os.getcwd()\n",
    "os.chdir(\"/Users/Ismael/code/research/repo\")\n",
    "os.getcwd()\n",
    "\n",
    "#ignore warning below"
   ]
  },
  {
   "cell_type": "code",
   "execution_count": 79,
   "metadata": {
    "collapsed": false
   },
   "outputs": [],
   "source": [
    "#other packages to import in repo \n",
    "import fisher\n",
    "import galfun\n",
    "import galsim\n",
    "import sys\n",
    "import copy\n",
    "import numpy as np\n",
    "import math\n",
    "import matplotlib.pyplot as plt\n",
    "import matplotlib.cm as cm\n",
    "import pylab"
   ]
  },
  {
   "cell_type": "code",
   "execution_count": 38,
   "metadata": {
    "collapsed": true
   },
   "outputs": [],
   "source": [
    "project_name = \"project2\""
   ]
  },
  {
   "cell_type": "code",
   "execution_count": 39,
   "metadata": {
    "collapsed": false
   },
   "outputs": [],
   "source": [
    "%%bash \n",
    "#create project with galaxy and draw image to create an info file. \n",
    "python generate.py -p project2 -gal 1 --psf_model gaussian --galaxy-model gaussian --e1 .2 --e2 0. --y0 0 --x0 0 \\\n",
    "--flux 1. --psf_flux 1. --hlr .5 --psf_fwhm .7\n",
    "python display.py -p project2 --snr 60 -d --hide"
   ]
  },
  {
   "cell_type": "code",
   "execution_count": 40,
   "metadata": {
    "collapsed": false
   },
   "outputs": [],
   "source": [
    "#read galaxy from project1 and create fisher object.\n",
    "snr = 60\n",
    "g_parameters = galfun.GParameters(project_name)\n",
    "fish = fisher.Fisher(g_parameters, snr)"
   ]
  },
  {
   "cell_type": "code",
   "execution_count": 41,
   "metadata": {
    "collapsed": false
   },
   "outputs": [
    {
     "name": "stdout",
     "output_type": "stream",
     "text": [
      "Default values used in the analysis:\n",
      "nx: 48\n",
      "ny: 48\n",
      "pixel_scale: 0.2\n",
      "\n",
      "Galaxies drawn have the following parameters:\n",
      "x0_1: 0.0\n",
      "psf_fwhm_1: 0.7\n",
      "hlr_1: 0.5\n",
      "e2_1: 0.0\n",
      "galaxy_model_1: gaussian\n",
      "psf_flux_1: 1.0\n",
      "flux_1: 1.0\n",
      "e1_1: 0.2\n",
      "psf_model_1: gaussian\n",
      "y0_1: 0.0\n",
      "the results were produced with:\n",
      "/Users/Ismael/code/research/repo\n",
      "\n",
      "Fisher analysis (and fittings if included) used the following snr: 60.0\n",
      "\n",
      "Steps used for the derivatives: \n",
      "hlr_1: 0.005\n",
      "e2_1: 0.01\n",
      "x0_1: 0.01\n",
      "flux_1: 0.01\n",
      "e1_1: 0.01\n",
      "y0_1: 0.01\n",
      "\n",
      "Condition number of Fisher Matrix:\n",
      "35.9698393932\n"
     ]
    }
   ],
   "source": [
    "%%bash \n",
    "#show info file.\n",
    "cat project2/info.txt"
   ]
  },
  {
   "cell_type": "code",
   "execution_count": 66,
   "metadata": {
    "collapsed": false
   },
   "outputs": [
    {
     "data": {
      "image/png": "[encoded data removed]",
      "text/plain": [
       "<wand.image.Image: e99a57f 'PDF' (360x395)>"
      ]
     },
     "execution_count": 66,
     "metadata": {},
     "output_type": "execute_result"
    }
   ],
   "source": [
    "from wand.image import Image as WImage\n",
    "img = WImage(filename='project2/plots/figure1.pdf')\n",
    "img"
   ]
  },
  {
   "cell_type": "markdown",
   "metadata": {},
   "source": [
    "### Shear functions"
   ]
  },
  {
   "cell_type": "code",
   "execution_count": 59,
   "metadata": {
    "collapsed": true
   },
   "outputs": [],
   "source": [
    "#get bias of shear with ring test\n",
    "\n",
    "def shearEllipticity(g, e):\n",
    "    \"\"\"Changes given ellipticity to a sheared ellpticity according to the\n",
    "    formula (14) of paper: http://arxiv.org/abs/1409.6273.\n",
    "    Ellipticity should be given by inputting the two components.\n",
    "    Returns both sheared components of ellpicity.\n",
    "    Uses complex numbers.\n",
    "    \"\"\"\n",
    "    e_s = (e + g)/(1 + g.conjugate()*e)\n",
    "    return e_s\n",
    "\n",
    "def residual_shear(x, m, a):\n",
    "    return m*x + a\n",
    "\n",
    "def shearBias(fish, g):\n",
    "    \"\"\"Returns the value of the bias of the given lensing shear for the\n",
    "    particular galaxy analyzed by using the ring test. Only works with\n",
    "    a single galaxy profile.\n",
    "    Assume galaxy is parametrized with e1,e2.\n",
    "    \"\"\"\n",
    "    angle_range = (0, 2*math.pi)\n",
    "    steps = 7 #6 points on the ring. excluding theta=2pi\n",
    "    id_params = copy.deepcopy(fish.g_parameters.id_params)\n",
    "    ids = id_params.keys()\n",
    "    id1 = ids[0]\n",
    "    snr = fish.snr\n",
    "    angles = list(np.linspace(angle_range[0], angle_range[1], steps))\n",
    "    angles.pop() #remove 2pi angle redundancy.\n",
    "    ellipticities_s = [] #for sanity check.\n",
    "    biases = []\n",
    "    orig_e1 = id_params[id1]['e1']\n",
    "    orig_e2 = id_params[id1]['e2']\n",
    "    orig_e = complex(orig_e1,orig_e2) #unsheared ellipticity\n",
    "    for angle in angles:\n",
    "        e = complex(abs(orig_e)*math.cos(angle),abs(orig_e)*math.sin(angle))\n",
    "        e_s = shearEllipticity(g, e) #get sheared components\n",
    "        ellipticities_s.append(e_s)\n",
    "\n",
    "        id_params[id1]['e1'] = e_s.real\n",
    "        id_params[id1]['e2'] = e_s.imag\n",
    "        g_parameters = galfun.GParameters(id_params=id_params)\n",
    "        fish = fisher.Fisher(g_parameters, snr)\n",
    "        bias = complex(fish.biases['e1_'+id1],fish.biases['e2_'+id1])\n",
    "        biases.append(bias)\n",
    "\n",
    "    #sanity check.\n",
    "    #print np.mean(ellipticities_s)\n",
    "\n",
    "    #return bias(g) which is average of ellipticity bias\n",
    "    return np.mean(biases)\n"
   ]
  },
  {
   "cell_type": "markdown",
   "metadata": {},
   "source": [
    "### Sanity check "
   ]
  },
  {
   "cell_type": "code",
   "execution_count": 60,
   "metadata": {
    "collapsed": true
   },
   "outputs": [],
   "source": [
    "\n",
    "#######only for sanity check discard later.\n",
    "\n",
    "def sheared_ellipticies(fish, g):\n",
    "    \"\"\"Returns the value of the bias of the given lensing shear for the\n",
    "    particular galaxy analyzed by using the ring test. Only works with\n",
    "    a single galaxy profile.\n",
    "    Assume galaxy is parametrized with e1,e2.\n",
    "    \"\"\"\n",
    "    angle_range = (0, 2*math.pi)\n",
    "    steps = 7 #6 points on the ring. excluding theta=2pi\n",
    "    id_params = copy.deepcopy(fish.g_parameters.id_params)\n",
    "    ids = id_params.keys()\n",
    "    id1 = ids[0]\n",
    "    snr = fish.snr\n",
    "    angles = list(np.linspace(angle_range[0], angle_range[1], steps))\n",
    "    angles.pop() #remove 2pi angle redundancy.\n",
    "    ellipticities_s = [] #for sanity check.\n",
    "    biases = []\n",
    "    orig_e1 = id_params[id1]['e1']\n",
    "    orig_e2 = id_params[id1]['e2']\n",
    "    orig_e = complex(orig_e1,orig_e2) #unsheared ellipticity\n",
    "    for angle in angles:\n",
    "        e = complex(abs(orig_e)*math.cos(angle),abs(orig_e)*math.sin(angle))\n",
    "        e_s = shearEllipticity(g, e) #get sheared components\n",
    "        ellipticities_s.append(e_s)\n",
    "\n",
    "        id_params[id1]['e1'] = e_s.real\n",
    "        id_params[id1]['e2'] = e_s.imag\n",
    "        g_parameters = galfun.GParameters(id_params=id_params)\n",
    "        fish = fisher.Fisher(g_parameters, snr)\n",
    "        bias = complex(fish.biases['e1_'+id1],fish.biases['e2_'+id1])\n",
    "        biases.append(bias)\n",
    "\n",
    "    return ellipticities_s\n"
   ]
  },
  {
   "cell_type": "code",
   "execution_count": 61,
   "metadata": {
    "collapsed": false
   },
   "outputs": [
    {
     "name": "stdout",
     "output_type": "stream",
     "text": [
      "(0.00999999999999+1.38777878078e-17j)\n",
      "0.01\n"
     ]
    }
   ],
   "source": [
    "#make sure average of sheared ellipticities in the ring equals the shear.\n",
    "g = .01\n",
    "print np.mean(sheared_ellipticies(fish, g))\n",
    "print g \n",
    "\n"
   ]
  },
  {
   "cell_type": "markdown",
   "metadata": {},
   "source": [
    "### Some bias examples"
   ]
  },
  {
   "cell_type": "code",
   "execution_count": 62,
   "metadata": {
    "collapsed": false
   },
   "outputs": [
    {
     "name": "stdout",
     "output_type": "stream",
     "text": [
      "(-2.52184690908e-08-2.41784196831e-11j)\n",
      "(-2.58368757689e-05-1.48511509803e-11j)\n",
      "(-0.000245006721646-0.000244959584961j)\n"
     ]
    }
   ],
   "source": [
    "g1 = .0001\n",
    "print shearBias(fish, g1)\n",
    "\n",
    "g2 = .02\n",
    "print shearBias(fish, g2)\n",
    "\n",
    "g3 = .2 + .2j\n",
    "print shearBias(fish, g3)"
   ]
  },
  {
   "cell_type": "markdown",
   "metadata": {},
   "source": [
    "### Getting multiplicative and additive bias"
   ]
  },
  {
   "cell_type": "code",
   "execution_count": 97,
   "metadata": {
    "collapsed": false
   },
   "outputs": [],
   "source": [
    "#get multiplicative and additive biases of shear by doing a linear fit.\n",
    "def getMultAddBias(fish):\n",
    "    g_range = (.0001, .02)\n",
    "    steps = 5\n",
    "    g_ranges = list(np.linspace(g_range[0], g_range[1], steps))\n",
    "    gs = []\n",
    "    bs = []\n",
    "    g2 = 0\n",
    "    #assume g2 = 0 for now. \n",
    "    for g1 in g_ranges:\n",
    "        g = complex(g1,g2)\n",
    "        b = shearBias(fish, g)\n",
    "        gs.append(g)\n",
    "        bs.append(b)\n",
    "    gs_real = np.array([g.real for g in gs])\n",
    "    gs_imag = np.array([g.imag for g in gs])\n",
    "    bs_real = np.array([b.real for b in bs])\n",
    "    bs_imag = np.array([b.imag for b in bs])\n",
    "     \n",
    "    return (gs_real, bs_real, gs_imag, bs_imag)\n",
    "#     x0 = np.array([0.,0.])\n",
    "#     y0 = np.array([0.,0.])\n",
    "#     print scipyopt.curve_fit(residual_shear,gs_real, bs_real, x0)\n",
    "#     print scipyopt.curve_fit(residual_shear,gs_imag, bs_imag, y0)"
   ]
  },
  {
   "cell_type": "code",
   "execution_count": 98,
   "metadata": {
    "collapsed": false
   },
   "outputs": [
    {
     "data": {
      "text/plain": [
       "<Container object of 3 artists>"
      ]
     },
     "execution_count": 98,
     "metadata": {},
     "output_type": "execute_result"
    },
    {
     "data": {
      "image/png": "[encoded data removed]",
      "text/plain": [
       "<matplotlib.figure.Figure at 0x10d32ee50>"
      ]
     },
     "metadata": {},
     "output_type": "display_data"
    },
    {
     "data": {
      "image/png": "[encoded data removed]",
      "text/plain": [
       "<matplotlib.figure.Figure at 0x10d4a5110>"
      ]
     },
     "metadata": {},
     "output_type": "display_data"
    },
    {
     "data": {
      "image/png": "[encoded data removed]",
      "text/plain": [
       "<matplotlib.figure.Figure at 0x10d4ddbd0>"
      ]
     },
     "metadata": {},
     "output_type": "display_data"
    }
   ],
   "source": [
    "(gs_real, bs_real, gs_imag, bs_imag) = getMultAddBias(fish)\n",
    "\n",
    "#plot this.\n",
    "\n",
    "figure = plt.figure()\n",
    "figure.suptitle('g1 vs b1', fontsize=14)\n",
    "ax = figure.add_subplot(111)\n",
    "ax.errorbar(gs_real, bs_real)\n",
    "\n",
    "figure = plt.figure()\n",
    "figure.suptitle('g2 vs b1', fontsize=14)\n",
    "ax = figure.add_subplot(111)\n",
    "ax.errorbar(gs_imag, bs_real)\n",
    "\n",
    "figure = plt.figure()\n",
    "figure.suptitle('g1 vs b2', fontsize=14)\n",
    "ax = figure.add_subplot(111)\n",
    "ax.errorbar(gs_real, bs_imag)\n",
    "\n",
    "\n"
   ]
  },
  {
   "cell_type": "code",
   "execution_count": null,
   "metadata": {
    "collapsed": true
   },
   "outputs": [],
   "source": []
  }
 ],
 "metadata": {
  "kernelspec": {
   "display_name": "Python 2",
   "language": "python",
   "name": "python2"
  },
  "language_info": {
   "codemirror_mode": {
    "name": "ipython",
    "version": 2
   },
   "file_extension": ".py",
   "mimetype": "text/x-python",
   "name": "python",
   "nbconvert_exporter": "python",
   "pygments_lexer": "ipython2",
   "version": "2.7.10"
  }
 },
 "nbformat": 4,
 "nbformat_minor": 0
}
