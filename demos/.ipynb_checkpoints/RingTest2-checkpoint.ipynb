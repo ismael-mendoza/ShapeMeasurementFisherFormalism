{
 "cells": [
  {
   "cell_type": "markdown",
   "metadata": {},
   "source": [
    "### Preamble "
   ]
  },
  {
   "cell_type": "code",
   "execution_count": 51,
   "metadata": {
    "collapsed": false
   },
   "outputs": [],
   "source": [
    "import os\n",
    "import math\n",
    "import copy\n",
    "os.chdir('/Users/Ismael/code/research/repo/demos')"
   ]
  },
  {
   "cell_type": "code",
   "execution_count": 52,
   "metadata": {
    "collapsed": false
   },
   "outputs": [],
   "source": [
    "#chdir to where we can import packages.\n",
    "import shear\n",
    "import galfun\n",
    "import fisher \n",
    "os.chdir('/Users/Ismael/code/research/repo/')\n",
    "\n",
    "#plot inline\n",
    "%matplotlib inline"
   ]
  },
  {
   "cell_type": "markdown",
   "metadata": {},
   "source": [
    "### Relating multiplicative bias with bias on ellipticity. "
   ]
  },
  {
   "cell_type": "code",
   "execution_count": null,
   "metadata": {
    "collapsed": true
   },
   "outputs": [],
   "source": [
    "#bias on ellipticity of a single galaxy relate to multiplicative bias\n",
    "    #plot multiplicative bias vs bias on ellipticity?(which ellipticies? they are a lot of them)\n",
    "    #check if depends on the magnitude of  ellipticity , do e = .2, e = .4, e = .1 ; \n",
    "    #circular psf. "
   ]
  },
  {
   "cell_type": "code",
   "execution_count": 53,
   "metadata": {
    "collapsed": false
   },
   "outputs": [
    {
     "name": "stdout",
     "output_type": "stream",
     "text": [
      "Default values used in the analysis:\n",
      "nx: 48\n",
      "ny: 48\n",
      "pixel_scale: 0.2\n",
      "\n",
      "Galaxies drawn have the following parameters:\n",
      "x0_1: 0.0\n",
      "psf_fwhm_1: 0.7\n",
      "hlr_1: 0.5\n",
      "e2_1: 0.0\n",
      "galaxy_model_1: gaussian\n",
      "psf_flux_1: 1.0\n",
      "flux_1: 1.0\n",
      "e1_1: 0.0\n",
      "psf_model_1: psf_gaussian\n",
      "y0_1: 0.0\n",
      "the results were produced with:\n",
      "/Users/Ismael/code/research/repo\n",
      "\n",
      "Fisher analysis (and fittings if included) used the following snr: 40.0\n",
      "\n",
      "Steps used for the derivatives: \n",
      "hlr_1: 0.005\n",
      "e2_1: 0.01\n",
      "x0_1: 0.01\n",
      "flux_1: 0.01\n",
      "e1_1: 0.01\n",
      "y0_1: 0.01\n",
      "\n",
      "Condition number of Fisher Matrix:\n",
      "37.1854013877\n"
     ]
    }
   ],
   "source": [
    "%%bash\n",
    "python generate.py -p project5 -gal 1 --psf_model psf_gaussian --galaxy-model gaussian --e1 0 --e2 0 \\\n",
    "--y0 0 --x0 0 --flux 1. --psf_flux 1. --psf_fwhm .7 --snr 40 --hlr .5\n",
    "cat project5/info.txt"
   ]
  },
  {
   "cell_type": "code",
   "execution_count": 54,
   "metadata": {
    "collapsed": false
   },
   "outputs": [],
   "source": [
    "snr = 40\n",
    "g_parameters = galfun.GParameters('project5')\n",
    "fish = fisher.Fisher(g_parameters, snr)"
   ]
  },
  {
   "cell_type": "code",
   "execution_count": 55,
   "metadata": {
    "collapsed": false
   },
   "outputs": [],
   "source": [
    "#ellipticities to check for difference on shear \n",
    "ellips = [(0,0),(0.1,0),(0,.1),(.2,0),(0,.2),(.4,0),(0,.4)]\n",
    "id_params = copy.deepcopy(fish.g_parameters.id_params)\n",
    "ids = id_params.keys()\n",
    "g = .1\n",
    "shears = []\n",
    "\n",
    "for ellip in ellips:\n",
    "    id_params[ids[0]]['e1'] = ellip[0]\n",
    "    id_params[ids[0]]['e2'] = ellip[1]\n",
    "    g_parameters = galfun.GParameters(id_params=id_params)\n",
    "    fish = fisher.Fisher(g_parameters, snr)\n",
    "    shears.append(shear.shearBias(fish,g))"
   ]
  },
  {
   "cell_type": "code",
   "execution_count": 56,
   "metadata": {
    "collapsed": false
   },
   "outputs": [
    {
     "name": "stdout",
     "output_type": "stream",
     "text": [
      "(-0.000310161005473-1.34614097647e-10j)\n",
      "(-0.00030511243478-4.09216358715e-11j)\n",
      "(-0.00030511243478-4.09216358715e-11j)\n",
      "(-0.000290416892616-1.66333983624e-11j)\n",
      "(-0.000290416892616-1.66333983624e-11j)\n",
      "(-0.000236861451413-1.02602269273e-10j)\n",
      "(-0.000236861451413-1.02602269273e-10j)\n"
     ]
    }
   ],
   "source": [
    "for s in shears:\n",
    "    print s"
   ]
  },
  {
   "cell_type": "markdown",
   "metadata": {
    "collapsed": true
   },
   "source": [
    "### Multiplicative bias vs size on a exponential+moffat galaxy "
   ]
  },
  {
   "cell_type": "code",
   "execution_count": 22,
   "metadata": {
    "collapsed": true
   },
   "outputs": [],
   "source": [
    "#ring test put together with m1,m2 vs size. do on more realistic shape exponential + moffat. \n",
    "    #paranoid check m1 = m2 plots (pixelisation) and everything. "
   ]
  },
  {
   "cell_type": "code",
   "execution_count": 61,
   "metadata": {
    "collapsed": false
   },
   "outputs": [
    {
     "name": "stdout",
     "output_type": "stream",
     "text": [
      "Default values used in the analysis:\n",
      "nx: 48\n",
      "ny: 48\n",
      "pixel_scale: 0.2\n",
      "\n",
      "Galaxies drawn have the following parameters:\n",
      "x0_1: 0.0\n",
      "psf_fwhm_1: 0.7\n",
      "hlr_1: 0.5\n",
      "e2_1: 0.2\n",
      "galaxy_model_1: exponential\n",
      "psf_flux_1: 1.0\n",
      "flux_1: 1.0\n",
      "psf_beta_1: 3.0\n",
      "e1_1: 0.2\n",
      "psf_model_1: psf_moffat\n",
      "y0_1: 0.0\n",
      "the results were produced with:\n",
      "/Users/Ismael/code/research/repo\n",
      "\n",
      "Fisher analysis (and fittings if included) used the following snr: 20.0\n",
      "\n",
      "Steps used for the derivatives: \n",
      "hlr_1: 0.005\n",
      "e2_1: 0.01\n",
      "x0_1: 0.01\n",
      "flux_1: 0.01\n",
      "e1_1: 0.01\n",
      "y0_1: 0.01\n",
      "\n",
      "Condition number of Fisher Matrix:\n",
      "40.8844922983\n"
     ]
    }
   ],
   "source": [
    "%%bash \n",
    "#create project with galaxy and draw image to create an info file. \n",
    "python generate.py -p project6 -gal 1 --psf_model psf_moffat --galaxy-model exponential --e1 .2 --e2 .2 \\\n",
    "--y0 0 --x0 0 --flux 1. --psf_flux 1. --hlr .5 --psf_fwhm .7 --psf_beta 3.0 --snr 20\n",
    "\n",
    "#show info file.\n",
    "cat project6/info.txt"
   ]
  },
  {
   "cell_type": "code",
   "execution_count": 63,
   "metadata": {
    "collapsed": false
   },
   "outputs": [],
   "source": [
    "#read galaxy from project1 and create fisher object.\n",
    "snr = 20\n",
    "g_parameters = galfun.GParameters('project6')\n",
    "fish = fisher.Fisher(g_parameters, snr)"
   ]
  },
  {
   "cell_type": "code",
   "execution_count": 69,
   "metadata": {
    "collapsed": true
   },
   "outputs": [],
   "source": [
    "import numpy as np\n",
    "#plot of m1,m2 vs size.\n",
    "#for g2 = 0\n",
    "steps = 5\n",
    "hlr_range = (.15, .5)\n",
    "hlrs = np.linspace(hlr_range[0], hlr_range[1], steps)\n",
    "m1s = []\n",
    "m2s = []\n",
    "\n",
    "id_params = copy.deepcopy(fish.g_parameters.id_params)\n",
    "snr = fish.snr\n",
    "for hlr in hlrs:\n",
    "    gal_id = id_params.keys()[0]\n",
    "    id_params[gal_id]['hlr'] = hlr\n",
    "    g_parameters = galfun.GParameters(id_params=id_params)\n",
    "    fish = fisher.Fisher(g_parameters, snr)\n",
    "    m1, c1, m2, c2 = shear.getMultAddBiasG1(fish)\n",
    "    m1s.append(m1)\n",
    "    m2s.append(m2)\n",
    "        "
   ]
  },
  {
   "cell_type": "code",
   "execution_count": 73,
   "metadata": {
    "collapsed": false
   },
   "outputs": [
    {
     "data": {
      "text/plain": [
       "<matplotlib.collections.PathCollection at 0x10a6d9cd0>"
      ]
     },
     "execution_count": 73,
     "metadata": {},
     "output_type": "execute_result"
    },
    {
     "data": {
      "image/png": "[encoded data removed]",
      "text/plain": [
       "<matplotlib.figure.Figure at 0x10a279f90>"
      ]
     },
     "metadata": {},
     "output_type": "display_data"
    }
   ],
   "source": [
    "import matplotlib.pyplot as plt\n",
    "figure = plt.figure()\n",
    "figure.suptitle('m1 vs hlr', fontsize=14)\n",
    "ax = figure.add_subplot(111)\n",
    "ax.scatter(hlrs, m1s)"
   ]
  },
  {
   "cell_type": "code",
   "execution_count": null,
   "metadata": {
    "collapsed": true
   },
   "outputs": [],
   "source": []
  },
  {
   "cell_type": "code",
   "execution_count": null,
   "metadata": {
    "collapsed": true
   },
   "outputs": [],
   "source": [
    "#exercise bulge + disk (same center && ellipticity && ) and do multiplicative bias too.\n",
    "    #correlation matrix. too and condition number. \n",
    "    #compare 6 vs 8 free parameter object."
   ]
  },
  {
   "cell_type": "code",
   "execution_count": null,
   "metadata": {
    "collapsed": true
   },
   "outputs": [],
   "source": [
    "#do multiplicative bias for 8 parameter free object."
   ]
  },
  {
   "cell_type": "code",
   "execution_count": 81,
   "metadata": {
    "collapsed": false
   },
   "outputs": [
    {
     "name": "stdout",
     "output_type": "stream",
     "text": [
      "Default values used in the analysis:\n",
      "nx: 48\n",
      "ny: 48\n",
      "pixel_scale: 0.2\n",
      "\n",
      "Galaxies drawn have the following parameters:\n",
      "flux_d_1: 1.0\n",
      "x0_1: 0.0\n",
      "psf_fwhm_1: 0.7\n",
      "n_b_1: 4.0\n",
      "e2_1: 0.2\n",
      "hlr_b_1: 0.5\n",
      "galaxy_model_1: bulgeDisk\n",
      "psf_flux_1: 1.0\n",
      "flux_b_1: 1.0\n",
      "psf_model_1: psf_gaussian\n",
      "e1_1: 0.2\n",
      "hlr_d_1: 0.7\n",
      "n_d_1: 1.0\n",
      "y0_1: 0.0\n",
      "the results were produced with:\n",
      "/Users/Ismael/code/research/repo\n",
      "\n",
      "Fisher analysis (and fittings if included) used the following snr: 20.0\n",
      "\n",
      "Steps used for the derivatives: \n",
      "flux_d_1: 0.01\n",
      "e2_1: 0.01\n",
      "hlr_b_1: 0.005\n",
      "x0_1: 0.01\n",
      "flux_b_1: 0.01\n",
      "e1_1: 0.01\n",
      "hlr_d_1: 0.007\n",
      "y0_1: 0.01\n",
      "\n",
      "Condition number of Fisher Matrix:\n",
      "4951.2885234\n"
     ]
    }
   ],
   "source": [
    "%%bash \n",
    "#create project with galaxy and draw image to create an info file. \n",
    "python generate.py -p project7 -gal 1 --psf_model psf_gaussian --galaxy-model bulgeDisk --e1 .2 --e2 .2 --y0 0 --x0 0 \\\n",
    "--flux_d 1. --flux_b 1. --psf_flux 1. --hlr_b .5 --hlr_d .7 --psf_fwhm .7 --snr 20 --n_d 1 --n_b 4\n",
    "\n",
    "#show info file.\n",
    "cat project7/info.txt"
   ]
  },
  {
   "cell_type": "code",
   "execution_count": 84,
   "metadata": {
    "collapsed": false
   },
   "outputs": [],
   "source": [
    "%%bash\n",
    "#display galaxy \n",
    "python display.py -d --snr 20 -f -p project7"
   ]
  },
  {
   "cell_type": "code",
   "execution_count": 85,
   "metadata": {
    "collapsed": true
   },
   "outputs": [],
   "source": [
    "snr = 40\n",
    "g_parameters = galfun.GParameters('project7')\n",
    "fish = fisher.Fisher(g_parameters, snr)"
   ]
  },
  {
   "cell_type": "code",
   "execution_count": 87,
   "metadata": {
    "collapsed": false
   },
   "outputs": [
    {
     "name": "stdout",
     "output_type": "stream",
     "text": [
      "-0.00710558554569 8.92767971857e-06 nan nan\n"
     ]
    }
   ],
   "source": [
    "m1,m2,c1,c2 = shear.getMultAddBiasG1(fish)\n",
    "print m1,m2,c1,c2"
   ]
  },
  {
   "cell_type": "code",
   "execution_count": null,
   "metadata": {
    "collapsed": false
   },
   "outputs": [],
   "source": [
    "m1,m2,c1,c2 = shear.getMultAddBiasG2(fish)\n",
    "print m1,m2,c1,c2"
   ]
  },
  {
   "cell_type": "code",
   "execution_count": null,
   "metadata": {
    "collapsed": true
   },
   "outputs": [],
   "source": [
    "#do multiplicative bias for 6 parameter free object. "
   ]
  },
  {
   "cell_type": "code",
   "execution_count": null,
   "metadata": {
    "collapsed": true
   },
   "outputs": [],
   "source": [
    "%%bash \n",
    "#create project with galaxy and draw image to create an info file. \n",
    "python generate.py -p project7 -gal 1 --psf_model psf_gaussian --galaxy-model bulgeDisk6 --e1 .2 --e2 .2 --y0 0 --x0 0 \\\n",
    "--flux 1. --psf_flux 1. --hlr_b .5 --psf_fwhm .7 --n_d 1 --n_b 4\n",
    "\n",
    "#show info file.\n",
    "cat project7/info.txt"
   ]
  },
  {
   "cell_type": "code",
   "execution_count": null,
   "metadata": {
    "collapsed": true
   },
   "outputs": [],
   "source": [
    "snr = 20\n",
    "g_parameters = galfun.GParameters(project_name)\n",
    "fish = fisher.Fisher(g_parameters, snr)\n",
    "m1,c1,m2,c2 = getMultAddBiasG1(fish) \n",
    "print m1, c1, m2, c2"
   ]
  },
  {
   "cell_type": "markdown",
   "metadata": {},
   "source": [
    "## Doubts"
   ]
  },
  {
   "cell_type": "code",
   "execution_count": null,
   "metadata": {
    "collapsed": true
   },
   "outputs": [],
   "source": [
    "# about my new module models.py, how to organize effectively capturing the structure. \n",
    "# n_b = 4 and n_d = 1"
   ]
  }
 ],
 "metadata": {
  "kernelspec": {
   "display_name": "Python 2",
   "language": "python",
   "name": "python2"
  },
  "language_info": {
   "codemirror_mode": {
    "name": "ipython",
    "version": 2
   },
   "file_extension": ".py",
   "mimetype": "text/x-python",
   "name": "python",
   "nbconvert_exporter": "python",
   "pygments_lexer": "ipython2",
   "version": "2.7.10"
  }
 },
 "nbformat": 4,
 "nbformat_minor": 0
}
