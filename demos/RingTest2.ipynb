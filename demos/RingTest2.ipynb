{
 "cells": [
  {
   "cell_type": "markdown",
   "metadata": {},
   "source": [
    "### Preamble "
   ]
  },
  {
   "cell_type": "code",
   "execution_count": 39,
   "metadata": {
    "collapsed": false
   },
   "outputs": [],
   "source": [
    "import os \n",
    "os.chdir('/Users/Ismael/code/research/repo/demos/')"
   ]
  },
  {
   "cell_type": "code",
   "execution_count": 41,
   "metadata": {
    "collapsed": false
   },
   "outputs": [],
   "source": [
    "#chdir to where we can import packages.\n",
    "import shear\n",
    "\n",
    "#plot inline\n",
    "%matplotlib inline"
   ]
  },
  {
   "cell_type": "markdown",
   "metadata": {},
   "source": [
    "### Getting multiplicative and additive bias"
   ]
  },
  {
   "cell_type": "code",
   "execution_count": 44,
   "metadata": {
    "collapsed": false,
    "scrolled": true
   },
   "outputs": [
    {
     "data": {
      "text/plain": [
       "<matplotlib.collections.PathCollection at 0x10ca6b950>"
      ]
     },
     "execution_count": 44,
     "metadata": {},
     "output_type": "execute_result"
    },
    {
     "data": {
      "image/png": "[encoded data removed]",
      "text/plain": [
       "<matplotlib.figure.Figure at 0x10bfc8810>"
      ]
     },
     "metadata": {},
     "output_type": "display_data"
    },
    {
     "data": {
      "image/png": "[encoded data removed]",
      "text/plain": [
       "<matplotlib.figure.Figure at 0x10d0bb8d0>"
      ]
     },
     "metadata": {},
     "output_type": "display_data"
    },
    {
     "data": {
      "image/png": "[encoded data removed]",
      "text/plain": [
       "<matplotlib.figure.Figure at 0x10cc54650>"
      ]
     },
     "metadata": {},
     "output_type": "display_data"
    }
   ],
   "source": [
    "#visualize other plots of g2v bias2, etc.\n",
    "(gs_real, bs_real, gs_imag, bs_imag) = getMultAddBiasG2(fish)\n",
    "\n",
    "#plot this.\n",
    "\n",
    "figure = plt.figure()\n",
    "figure.suptitle('b1 vs g2', fontsize=14)\n",
    "ax = figure.add_subplot(111)\n",
    "ax.scatter(gs_imag, bs_real)\n",
    "\n",
    "figure = plt.figure()\n",
    "figure.suptitle('b2 vs g2', fontsize=14)\n",
    "ax = figure.add_subplot(111)\n",
    "ax.scatter(gs_imag, bs_imag)\n",
    "\n",
    "figure = plt.figure()\n",
    "figure.suptitle('b2 vs g1', fontsize=14)\n",
    "ax = figure.add_subplot(111)\n",
    "ax.scatter(gs_real, bs_imag)"
   ]
  },
  {
   "cell_type": "markdown",
   "metadata": {},
   "source": [
    "### Relating multiplicative bias with bias on ellipticity. "
   ]
  },
  {
   "cell_type": "code",
   "execution_count": 21,
   "metadata": {
    "collapsed": true
   },
   "outputs": [],
   "source": [
    "#bias on ellipticity of a single galaxy relate to multiplicative bias\n",
    "    #plot multiplicative bias vs bias on ellipticity?(which ellipticies? they are a lot of them)\n",
    "    #check if depends on the magnitude of  ellipticity , do e = .2, e = .4, e = .1 ; \n",
    "    #circular psf. "
   ]
  },
  {
   "cell_type": "code",
   "execution_count": null,
   "metadata": {
    "collapsed": true
   },
   "outputs": [],
   "source": []
  },
  {
   "cell_type": "code",
   "execution_count": null,
   "metadata": {
    "collapsed": true
   },
   "outputs": [],
   "source": []
  },
  {
   "cell_type": "code",
   "execution_count": null,
   "metadata": {
    "collapsed": true
   },
   "outputs": [],
   "source": []
  },
  {
   "cell_type": "markdown",
   "metadata": {
    "collapsed": true
   },
   "source": [
    "### Multiplicative bias vs size on a exponential+moffat galaxy "
   ]
  },
  {
   "cell_type": "code",
   "execution_count": 22,
   "metadata": {
    "collapsed": true
   },
   "outputs": [],
   "source": [
    "#ring test put together with m1,m2 vs size. do on more realistic shape exponential + moffat. \n",
    "    #paranoid check m1 = m2 plots (pixelisation) and everything. "
   ]
  },
  {
   "cell_type": "code",
   "execution_count": 42,
   "metadata": {
    "collapsed": true
   },
   "outputs": [],
   "source": [
    "project_name = \"project3\""
   ]
  },
  {
   "cell_type": "code",
   "execution_count": 43,
   "metadata": {
    "collapsed": false
   },
   "outputs": [
    {
     "name": "stdout",
     "output_type": "stream",
     "text": [
      "Default values used in the analysis:\n",
      "nx: 48\n",
      "ny: 48\n",
      "pixel_scale: 0.2\n",
      "\n",
      "Galaxies drawn have the following parameters:\n",
      "x0_1: 0.0\n",
      "psf_fwhm_1: 0.7\n",
      "hlr_1: 0.5\n",
      "e2_1: 0.2\n",
      "galaxy_model_1: exponential\n",
      "psf_flux_1: 1.0\n",
      "flux_1: 1.0\n",
      "psf_beta_1: 3.0\n",
      "e1_1: 0.2\n",
      "psf_model_1: moffat\n",
      "y0_1: 0.0\n",
      "the results were produced with:\n",
      "/Users/Ismael/code/research/repo\n",
      "\n",
      "Fisher analysis (and fittings if included) used the following snr: 20.0\n",
      "\n",
      "Steps used for the derivatives: \n",
      "hlr_1: 0.005\n",
      "e2_1: 0.01\n",
      "x0_1: 0.01\n",
      "flux_1: 0.01\n",
      "e1_1: 0.01\n",
      "y0_1: 0.01\n",
      "\n",
      "Condition number of Fisher Matrix:\n",
      "40.8844922983\n"
     ]
    }
   ],
   "source": [
    "%%bash \n",
    "#create project with galaxy and draw image to create an info file. \n",
    "python generate.py -p project3 -gal 1 --psf_model moffat --galaxy-model exponential --e1 .2 --e2 .2 --y0 0 --x0 0 \\\n",
    "--flux 1. --psf_flux 1. --hlr .5 --psf_fwhm .7 --psf_beta 3.0 --snr 20\n",
    "\n",
    "#show info file.\n",
    "cat project3/info.txt"
   ]
  },
  {
   "cell_type": "code",
   "execution_count": 35,
   "metadata": {
    "collapsed": true
   },
   "outputs": [],
   "source": [
    "#read galaxy from project1 and create fisher object.\n",
    "snr = 20\n",
    "g_parameters = galfun.GParameters(project_name)\n",
    "fish = fisher.Fisher(g_parameters, snr)"
   ]
  },
  {
   "cell_type": "code",
   "execution_count": null,
   "metadata": {
    "collapsed": true
   },
   "outputs": [],
   "source": [
    "#plot of m1,m2 vs size.\n",
    "#for g2 = 0\n",
    "steps = 10\n",
    "hlr_range = (.15, .5)\n",
    "hlrs = np.linspace(hlr_range[0], hlr_range[1], steps)\n",
    "#figure.suptitle('Plot of m1 as a function of hlr')\n",
    "m1s = []\n",
    "m2s = []\n",
    "\n",
    "id_params = copy.deepcopy(self.fish.g_parameters.id_params)\n",
    "snr = self.fish.snr\n",
    "for hlr in hlrs:\n",
    "    gal_id = id_params.keys()[0]\n",
    "    id_params[gal_id]['hlr'] = hlr\n",
    "    g_parameters = galfun.GParameters(id_params=id_params)\n",
    "    fish = fisher.Fisher(g_parameters, snr)\n",
    "    m1, c1, m2, c2 = getMultAddBiasG1(fish)\n",
    "    m1s.append(m1)\n",
    "    m2s.append(m2)\n",
    "        \n",
    "          \n",
    "\n",
    "figure = plt.figure()\n",
    "figure.suptitle('m1 vs hlr', fontsize=14)\n",
    "ax = figure.add_subplot(111)\n",
    "ax.scatter(hlr, m1s)\n",
    "\n",
    "figure = plt.figure()\n",
    "figure.suptitle('m2 vs hlr', fontsize=14)\n",
    "ax = figure.add_subplot(111)\n",
    "ax.scatter(hlr, m2s)"
   ]
  },
  {
   "cell_type": "code",
   "execution_count": null,
   "metadata": {
    "collapsed": true
   },
   "outputs": [],
   "source": []
  },
  {
   "cell_type": "code",
   "execution_count": null,
   "metadata": {
    "collapsed": true
   },
   "outputs": [],
   "source": [
    "#exercise bulge + disk (same center && ellipticity && ) and do multiplicative bias too.\n",
    "    #correlation matrix. too and condition number. \n",
    "    #compare 6 vs 8 free parameter object."
   ]
  },
  {
   "cell_type": "code",
   "execution_count": null,
   "metadata": {
    "collapsed": true
   },
   "outputs": [],
   "source": [
    "#do multiplicative bias for 6 parameter free object."
   ]
  },
  {
   "cell_type": "code",
   "execution_count": null,
   "metadata": {
    "collapsed": true
   },
   "outputs": [],
   "source": [
    "%%bash \n",
    "#create project with galaxy and draw image to create an info file. \n",
    "python generate.py -p project5 -gal 1 --psf_model gaussian --galaxy-model bulge+disk --e1 .2 --e2 .2 --y0 0 --x0 0 \\\n",
    "--flux_d 1. --psf_flux 1. --hlr_b .5 --hlr_d --psf_fwhm .7 --snr 20 --n_d --n_b \n",
    "\n",
    "#show info file.\n",
    "cat project5/info.txt"
   ]
  },
  {
   "cell_type": "code",
   "execution_count": null,
   "metadata": {
    "collapsed": true
   },
   "outputs": [],
   "source": [
    "#do multiplicative bias for 8 parameter free object. "
   ]
  },
  {
   "cell_type": "code",
   "execution_count": null,
   "metadata": {
    "collapsed": true
   },
   "outputs": [],
   "source": [
    "%%bash \n",
    "#create project with galaxy and draw image to create an info file. \n",
    "python generate.py -p project5 -gal 1 --psf_model gaussian --galaxy-model bulge+disk --e1 .2 --e2 .2 --y0 0 --x0 0 \\\n",
    "--flux_d 1. --psf_flux 1. --hlr_b .5 --hlr_d --psf_fwhm .7 --snr 20 --n_d --n_b \n",
    "\n",
    "#show info file.\n",
    "cat project5/info.txt"
   ]
  },
  {
   "cell_type": "code",
   "execution_count": null,
   "metadata": {
    "collapsed": true
   },
   "outputs": [],
   "source": [
    "snr = 20\n",
    "g_parameters = galfun.GParameters(project_name)\n",
    "fish = fisher.Fisher(g_parameters, snr)\n",
    "m1,c1,m2,c2 = getMultAddBiasG1(fish) \n",
    "print m1, c1, m2, c2"
   ]
  },
  {
   "cell_type": "markdown",
   "metadata": {},
   "source": [
    "## Doubts"
   ]
  },
  {
   "cell_type": "code",
   "execution_count": null,
   "metadata": {
    "collapsed": true
   },
   "outputs": [],
   "source": [
    "# about my new module models.py, how to organize effectively capturing the structure. \n",
    "# n_b = 4 and n_d = 1"
   ]
  }
 ],
 "metadata": {
  "kernelspec": {
   "display_name": "Python 2",
   "language": "python",
   "name": "python2"
  },
  "language_info": {
   "codemirror_mode": {
    "name": "ipython",
    "version": 2
   },
   "file_extension": ".py",
   "mimetype": "text/x-python",
   "name": "python",
   "nbconvert_exporter": "python",
   "pygments_lexer": "ipython2",
   "version": "2.7.10"
  }
 },
 "nbformat": 4,
 "nbformat_minor": 0
}
