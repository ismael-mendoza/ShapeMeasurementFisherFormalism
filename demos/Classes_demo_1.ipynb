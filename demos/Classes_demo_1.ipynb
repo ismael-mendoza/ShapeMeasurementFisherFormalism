{
 "cells": [
  {
   "cell_type": "markdown",
   "metadata": {},
   "source": [
    "### helps me understand classes better "
   ]
  },
  {
   "cell_type": "code",
   "execution_count": 1,
   "metadata": {
    "collapsed": false
   },
   "outputs": [
    {
     "name": "stdout",
     "output_type": "stream",
     "text": [
      "['c', 'a', 'b']\n"
     ]
    }
   ],
   "source": [
    "#lists, \n",
    "l = ['a', 'b']\n",
    "f = ['c']\n",
    "f += l\n",
    "print f\n",
    "\n"
   ]
  },
  {
   "cell_type": "code",
   "execution_count": 37,
   "metadata": {
    "collapsed": false
   },
   "outputs": [],
   "source": [
    "#initialize two classes \n",
    "#one is the parent class and the other is the child class \n",
    "#try to initialize the child the same way as the parent but also changing some things.\n",
    "class pnt(object):\n",
    "    \n",
    "    r = 5 #class variable. \n",
    "    \n",
    "    def __init__(self, b):\n",
    "        self.x = 2\n",
    "        self.y = 1\n",
    "        self.a = self.r\n",
    "        self.c = b\n",
    "\n",
    "class pnt3d(pnt):\n",
    "    \n",
    "    r = 10\n",
    "    \n",
    "    def __init__(self):\n",
    "        pnt.__init__(self,2)"
   ]
  },
  {
   "cell_type": "code",
   "execution_count": 39,
   "metadata": {
    "collapsed": false
   },
   "outputs": [
    {
     "name": "stdout",
     "output_type": "stream",
     "text": [
      "2\n",
      "5\n",
      "2\n",
      "10\n",
      "2\n"
     ]
    }
   ],
   "source": [
    "#it works? \n",
    "point1 = pnt(1)\n",
    "print point1.x\n",
    "print point1.a\n",
    "\n",
    "point2 = pnt3d()\n",
    "\n",
    "print point2.x\n",
    "print point2.a\n",
    "print point2.c"
   ]
  },
  {
   "cell_type": "code",
   "execution_count": 40,
   "metadata": {
    "collapsed": false
   },
   "outputs": [
    {
     "data": {
      "text/plain": [
       "5"
      ]
     },
     "execution_count": 40,
     "metadata": {},
     "output_type": "execute_result"
    }
   ],
   "source": [
    "#check how class attributes can be accessed without instatiating an object \n",
    "pnt.r"
   ]
  },
  {
   "cell_type": "code",
   "execution_count": null,
   "metadata": {
    "collapsed": true
   },
   "outputs": [],
   "source": []
  }
 ],
 "metadata": {
  "kernelspec": {
   "display_name": "Python 2",
   "language": "python",
   "name": "python2"
  },
  "language_info": {
   "codemirror_mode": {
    "name": "ipython",
    "version": 2
   },
   "file_extension": ".py",
   "mimetype": "text/x-python",
   "name": "python",
   "nbconvert_exporter": "python",
   "pygments_lexer": "ipython2",
   "version": "2.7.10"
  }
 },
 "nbformat": 4,
 "nbformat_minor": 0
}
