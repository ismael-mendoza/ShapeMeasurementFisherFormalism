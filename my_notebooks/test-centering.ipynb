{
 "cells": [
  {
   "cell_type": "markdown",
   "metadata": {},
   "source": [
    "# Preamble"
   ]
  },
  {
   "cell_type": "code",
   "execution_count": 1,
   "metadata": {
    "ExecuteTime": {
     "end_time": "2020-04-08T15:47:50.580618Z",
     "start_time": "2020-04-08T15:47:50.277311Z"
    }
   },
   "outputs": [
    {
     "name": "stdout",
     "output_type": "stream",
     "text": [
      "Modules to reload:\n",
      "all-except-skipped\n",
      "\n",
      "Modules to skip:\n",
      "\n"
     ]
    }
   ],
   "source": [
    "%load_ext autoreload\n",
    "%autoreload 2\n",
    "%aimport"
   ]
  },
  {
   "cell_type": "code",
   "execution_count": 2,
   "metadata": {
    "ExecuteTime": {
     "end_time": "2020-04-08T15:47:50.671469Z",
     "start_time": "2020-04-08T15:47:50.590573Z"
    }
   },
   "outputs": [
    {
     "name": "stdout",
     "output_type": "stream",
     "text": [
      "/nfs/slac/g/ki/ki19/deuce/AEGIS/ismael/SMFF\n"
     ]
    }
   ],
   "source": [
    "import sys \n",
    "from os.path import abspath\n",
    "from pathlib import Path\n",
    "root_path = Path(abspath('..'))\n",
    "\n",
    "if root_path not in sys.path: \n",
    "    sys.path.insert(0, root_path.as_posix())\n",
    "print(sys.path[0])"
   ]
  },
  {
   "cell_type": "code",
   "execution_count": 3,
   "metadata": {
    "ExecuteTime": {
     "end_time": "2020-04-08T15:47:50.964336Z",
     "start_time": "2020-04-08T15:47:50.889750Z"
    }
   },
   "outputs": [],
   "source": [
    "#directory to store data in. \n",
    "data_path = root_path.joinpath(\"data\")\n",
    "data_path.mkdir(exist_ok=True)"
   ]
  },
  {
   "cell_type": "code",
   "execution_count": 4,
   "metadata": {
    "ExecuteTime": {
     "end_time": "2020-04-08T15:47:56.583692Z",
     "start_time": "2020-04-08T15:47:51.405019Z"
    }
   },
   "outputs": [],
   "source": [
    "import subprocess\n",
    "import matplotlib.pyplot as plt\n",
    "import os\n",
    "from copy import deepcopy\n",
    "import galsim \n",
    "import corner \n",
    "import numpy as np \n",
    "\n",
    "from matplotlib.patches import Ellipse"
   ]
  },
  {
   "cell_type": "code",
   "execution_count": 5,
   "metadata": {
    "ExecuteTime": {
     "end_time": "2020-04-08T15:47:56.674922Z",
     "start_time": "2020-04-08T15:47:56.589344Z"
    }
   },
   "outputs": [],
   "source": [
    "import corner \n",
    "\n",
    "from src import defaults \n",
    "from src.analysis import fisher\n",
    "from src.analysis import gparameters\n",
    "from src.analysis import models\n",
    "from src.analysis import images\n",
    "from src.analysis import readfits"
   ]
  },
  {
   "cell_type": "markdown",
   "metadata": {},
   "source": [
    "# Galaxy model"
   ]
  },
  {
   "cell_type": "code",
   "execution_count": 40,
   "metadata": {
    "ExecuteTime": {
     "end_time": "2020-04-08T16:31:49.883880Z",
     "start_time": "2020-04-08T16:31:47.743993Z"
    }
   },
   "outputs": [],
   "source": [
    "#parameters of galaxy to draw. \n",
    "model = 'gaussian' #possible options of model and psf_model are in documentation. \n",
    "psf_model = 'gaussianpsf'\n",
    "g1 = .2\n",
    "g2 = .2 \n",
    "hlr = 0.7 \n",
    "psf_fwhm = .7\n",
    "snr = 20.\n",
    "x0 = 1 # arcsecs\n",
    "y0 = 1.0\n",
    "\n",
    "#project folder name where you want to write galaxy information \n",
    "project = data_path.joinpath('project-fit-center')\n",
    "\n",
    "#image parameters \n",
    "pixel_scale=.2 # arcsecs/pixel\n",
    "nx = 40\n",
    "ny = 40"
   ]
  },
  {
   "cell_type": "code",
   "execution_count": 41,
   "metadata": {
    "ExecuteTime": {
     "end_time": "2020-04-08T16:31:55.534641Z",
     "start_time": "2020-04-08T16:31:49.896014Z"
    }
   },
   "outputs": [],
   "source": [
    "cmd = (f'cd {root_path.as_posix()}; python -m src.generate -p {project.as_posix()} '\n",
    "       f'-gal 1 --galaxy-model {model} --psf_model {psf_model}  --g1 {g1} --g2 {g2} --y0 {y0} --x0 {x0} '\n",
    "       f'--flux 1. --psf_flux 1. --hlr {hlr} --psf_fwhm {psf_fwhm} --snr {snr}')\n",
    "subprocess.run(cmd, shell=True);"
   ]
  },
  {
   "cell_type": "markdown",
   "metadata": {},
   "source": [
    "# Do a fits"
   ]
  },
  {
   "cell_type": "code",
   "execution_count": 42,
   "metadata": {
    "ExecuteTime": {
     "end_time": "2020-04-08T16:31:56.711495Z",
     "start_time": "2020-04-08T16:31:55.551284Z"
    }
   },
   "outputs": [],
   "source": [
    "g_parameters = gparameters.GParameters(project) #extract parameters from file created by generate.py \n",
    "image_renderer = images.ImageRenderer(pixel_scale=pixel_scale,\n",
    "                                      nx=nx,ny=ny)\n",
    "fish = fisher.Fisher(g_parameters=g_parameters,image_renderer=image_renderer, \n",
    "                     snr=snr)"
   ]
  },
  {
   "cell_type": "code",
   "execution_count": 43,
   "metadata": {
    "ExecuteTime": {
     "end_time": "2020-04-08T16:31:57.441895Z",
     "start_time": "2020-04-08T16:31:56.715828Z"
    }
   },
   "outputs": [
    {
     "data": {
      "text/plain": [
       "{'1': OrderedDict([('galaxy_model', 'gaussian'),\n",
       "              ('psf_model', 'gaussianpsf'),\n",
       "              ('hlr', 0.7),\n",
       "              ('flux', 1.0),\n",
       "              ('x0', 1.0),\n",
       "              ('y0', 1.0),\n",
       "              ('g2', 0.2),\n",
       "              ('g1', 0.2),\n",
       "              ('psf_fwhm', 0.7),\n",
       "              ('psf_flux', 1.0)])}"
      ]
     },
     "execution_count": 43,
     "metadata": {},
     "output_type": "execute_result"
    }
   ],
   "source": [
    "g_parameters.id_params"
   ]
  },
  {
   "cell_type": "code",
   "execution_count": 63,
   "metadata": {
    "ExecuteTime": {
     "end_time": "2020-04-08T16:35:43.040109Z",
     "start_time": "2020-04-08T16:35:41.126718Z"
    }
   },
   "outputs": [
    {
     "data": {
      "text/plain": [
       "{'1': OrderedDict([('galaxy_model', 'gaussian'),\n",
       "              ('psf_model', 'gaussianpsf'),\n",
       "              ('hlr', 0.7),\n",
       "              ('flux', 1.0),\n",
       "              ('x0', 1.0673017532504012),\n",
       "              ('y0', 1.0123476505070916),\n",
       "              ('g2', 0.2),\n",
       "              ('g1', 0.2),\n",
       "              ('psf_fwhm', 0.7),\n",
       "              ('psf_flux', 1.0)])}"
      ]
     },
     "execution_count": 63,
     "metadata": {},
     "output_type": "execute_result"
    }
   ],
   "source": [
    "# want to move the center around a little bit inside the pixel to avoid bias when fitting. \n",
    "id_params = deepcopy(g_parameters.id_params)\n",
    "gal_id = next(iter(id_params)) #obtain first key in id_params (there is only one)\n",
    "id_params[gal_id]['x0'] +=  np.random.uniform() * pixel_scale\n",
    "id_params[gal_id]['y0'] +=  np.random.uniform() * pixel_scale\n",
    "new_g_parameters = gparameters.GParameters(id_params=id_params)\n",
    "\n",
    "new_g_parameters.id_params"
   ]
  },
  {
   "cell_type": "code",
   "execution_count": 65,
   "metadata": {
    "ExecuteTime": {
     "end_time": "2020-04-08T16:37:15.891615Z",
     "start_time": "2020-04-08T16:37:13.807071Z"
    }
   },
   "outputs": [],
   "source": [
    "orig_image = fish.model.drawImage(nx=defaults.NX, ny=defaults.NX, scale=defaults.PIXEL_SCALE)\n",
    "mins = defaults.get_minimums(g_parameters, orig_image)\n",
    "maxs = defaults.get_maximums(g_parameters, orig_image)\n",
    "init_values = defaults.get_initial_values_fit(g_parameters)"
   ]
  },
  {
   "cell_type": "code",
   "execution_count": 64,
   "metadata": {
    "ExecuteTime": {
     "end_time": "2020-04-08T16:35:44.984392Z",
     "start_time": "2020-04-08T16:35:43.044648Z"
    }
   },
   "outputs": [
    {
     "data": {
      "text/html": [
       "<h2>Fit Statistics</h2><table><tr><td>fitting method</td><td>leastsq</td><td></td></tr><tr><td># function evals</td><td>50</td><td></td></tr><tr><td># data points</td><td>1600</td><td></td></tr><tr><td># variables</td><td>6</td><td></td></tr><tr><td>chi-square</td><td> 1605.48999</td><td></td></tr><tr><td>reduced chi-square</td><td> 1.00720827</td><td></td></tr><tr><td>Akaike info crit.</td><td> 17.4805930</td><td></td></tr><tr><td>Bayesian info crit.</td><td> 49.7471464</td><td></td></tr></table><h2>Variables</h2><table><tr><th> name </th><th> value </th><th> standard error </th><th> relative error </th><th> initial value </th><th> min </th><th> max </th><th> vary </th></tr><tr><td> hlr_1 </td><td>  0.70112944 </td><td>  9.2518e-04 </td><td> 0.13% </td><td> 0.8575377645945935 </td><td>  0.00000000 </td><td>         inf </td><td> True </td></tr><tr><td> flux_1 </td><td>  1.00053657 </td><td>  0.00142128 </td><td> 0.14% </td><td> 1.1028888774165009 </td><td>  0.00000000 </td><td>         inf </td><td> True </td></tr><tr><td> x0_1 </td><td>  0.96699607 </td><td>  0.00115635 </td><td> 0.12% </td><td> 1.3547984037144467 </td><td> -4.00000000 </td><td>  4.00000000 </td><td> True </td></tr><tr><td> y0_1 </td><td>  0.91271702 </td><td>  8.4412e-04 </td><td> 0.09% </td><td> 1.0249168043338521 </td><td> -4.00000000 </td><td>  4.00000000 </td><td> True </td></tr><tr><td> g2_1 </td><td>  0.19898435 </td><td>  0.00120447 </td><td> 0.61% </td><td> 0.22395723050309227 </td><td> -0.70000000 </td><td>  0.70000000 </td><td> True </td></tr><tr><td> g1_1 </td><td>  0.20076636 </td><td>  0.00120461 </td><td> 0.60% </td><td> 0.26346134426498974 </td><td> -0.70000000 </td><td>  0.70000000 </td><td> True </td></tr></table><h2>Correlations (unreported correlations are < 0.100)</h2><table><tr><td>hlr_1</td><td>flux_1</td><td>0.7021</td></tr><tr><td>x0_1</td><td>y0_1</td><td>0.3168</td></tr><tr><td>hlr_1</td><td>g1_1</td><td>-0.1718</td></tr><tr><td>hlr_1</td><td>g2_1</td><td>-0.1703</td></tr></table>"
      ],
      "text/plain": [
       "<lmfit.minimizer.MinimizerResult at 0x7f3284f252e8>"
      ]
     },
     "execution_count": 64,
     "metadata": {},
     "output_type": "execute_result"
    }
   ],
   "source": [
    "from src import runfits\n",
    "\n",
    "results = runfits.perform_fit(new_g_parameters, image_renderer, snr=1000, noise_seed=np.random.randint(999999))\n",
    "results"
   ]
  },
  {
   "cell_type": "code",
   "execution_count": null,
   "metadata": {},
   "outputs": [],
   "source": [
    "gal_id = next(iter(id_params)) #obtain first key in id_params (there is only one)\n",
    "id_params[gal_id]['hlr'] = hlr\n",
    "g_parameters = gparameters.GParameters(id_params=id_params)"
   ]
  }
 ],
 "metadata": {
  "kernelspec": {
   "display_name": "Python 3",
   "language": "python",
   "name": "python3"
  },
  "language_info": {
   "codemirror_mode": {
    "name": "ipython",
    "version": 3
   },
   "file_extension": ".py",
   "mimetype": "text/x-python",
   "name": "python",
   "nbconvert_exporter": "python",
   "pygments_lexer": "ipython3",
   "version": "3.7.0"
  },
  "toc": {
   "base_numbering": 1,
   "nav_menu": {},
   "number_sections": true,
   "sideBar": true,
   "skip_h1_title": false,
   "title_cell": "Table of Contents",
   "title_sidebar": "Contents",
   "toc_cell": false,
   "toc_position": {},
   "toc_section_display": true,
   "toc_window_display": true
  }
 },
 "nbformat": 4,
 "nbformat_minor": 2
}
