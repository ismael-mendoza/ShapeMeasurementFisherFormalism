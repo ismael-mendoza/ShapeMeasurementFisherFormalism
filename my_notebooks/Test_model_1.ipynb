{
 "cells": [
  {
   "cell_type": "code",
   "execution_count": 60,
   "metadata": {
    "collapsed": false
   },
   "outputs": [],
   "source": [
    "import os\n",
    "import subprocess\n",
    "os.chdir('/Users/Ismael/code/lensing/repo/')\n",
    "#plot inline\n",
    "%matplotlib inline\n",
    "import matplotlib.pyplot as plt"
   ]
  },
  {
   "cell_type": "code",
   "execution_count": 73,
   "metadata": {
    "collapsed": false
   },
   "outputs": [],
   "source": [
    "import models\n",
    "import galsim"
   ]
  },
  {
   "cell_type": "code",
   "execution_count": 35,
   "metadata": {
    "collapsed": true
   },
   "outputs": [],
   "source": [
    "#this program tests several features of the new models.py program. "
   ]
  },
  {
   "cell_type": "code",
   "execution_count": 36,
   "metadata": {
    "collapsed": false
   },
   "outputs": [
    {
     "name": "stdout",
     "output_type": "stream",
     "text": [
      "['hlr', 'n_d', 'y0', 'fwhm', 'n_b', 'flux_d', 'flux_b', 'delta_theta', 'g2', 'g1', 'R_r', 'flux_b/flux_total', 'beta', 'delta_e', 'x0', 'e1', 'e2', 'e', 'eta1', 'eta2', 'q', 'flux', 'hlr_b', 'sigma', 'hlr_d']\n",
      "['psf_e2', 'psf_e1', 'psf_fwhm', 'psf_flux', 'psf_beta', 'psf_hlr']\n",
      "['gaussian', 'exponential', 'deVaucouleurs', 'bulgeDisk', 'bulgeDisk6']\n",
      "['psf_gaussian', 'psf_moffat']\n",
      "['id', 'galaxy_model', 'psf_model', 'hlr', 'n_d', 'y0', 'fwhm', 'n_b', 'flux_d', 'flux_b', 'delta_theta', 'g2', 'g1', 'R_r', 'flux_b/flux_total', 'beta', 'delta_e', 'x0', 'e1', 'e2', 'e', 'eta1', 'eta2', 'q', 'flux', 'hlr_b', 'sigma', 'hlr_d', 'psf_e2', 'psf_e1', 'psf_fwhm', 'psf_flux', 'psf_beta', 'psf_hlr']\n"
     ]
    }
   ],
   "source": [
    "#check the parameters \n",
    "print models.get_gal_parameters()\n",
    "print models.get_psf_parameters()\n",
    "print models.get_all_models()\n",
    "print models.get_all_psf_models()\n",
    "print models.get_fieldnames()"
   ]
  },
  {
   "cell_type": "code",
   "execution_count": 37,
   "metadata": {
    "collapsed": true
   },
   "outputs": [],
   "source": [
    "#see if getting a galaxy profile works"
   ]
  },
  {
   "cell_type": "code",
   "execution_count": 50,
   "metadata": {
    "collapsed": false
   },
   "outputs": [],
   "source": [
    "cmd = ('python generate.py -p project4 -gal 1 --psf_model psf_gaussian --galaxy-model gaussian --e1 0 --e2 0 --y0 0 --x0 0 \\\n",
    "--flux 1. --psf_flux 1. --hlr 1. --psf_fwhm .7 --snr 20 --pixel_scale .2 --nx 20 --ny 20') \n",
    "a = subprocess.call(cmd,shell=True)"
   ]
  },
  {
   "cell_type": "code",
   "execution_count": 103,
   "metadata": {
    "collapsed": false
   },
   "outputs": [],
   "source": [
    "import fisher\n",
    "import galfun"
   ]
  },
  {
   "cell_type": "code",
   "execution_count": 104,
   "metadata": {
    "collapsed": false
   },
   "outputs": [],
   "source": [
    "stamp = galsim.Image(40,40,scale=.4)"
   ]
  },
  {
   "cell_type": "code",
   "execution_count": 105,
   "metadata": {
    "collapsed": false
   },
   "outputs": [],
   "source": [
    "g_parameters = galfun.GParameters('project4')\n",
    "image_renderer = galfun.ImageRenderer(pixel_scale=float(.2),\n",
    "                                      nx=float(40.),ny=float(40.), stamp=stamp)\n",
    "fish = fisher.Fisher(g_parameters=g_parameters,image_renderer=image_renderer, \n",
    "                     snr=20.)"
   ]
  },
  {
   "cell_type": "code",
   "execution_count": 106,
   "metadata": {
    "collapsed": false
   },
   "outputs": [
    {
     "data": {
      "text/plain": [
       "['hlr_1', 'e2_1', 'x0_1', 'flux_1', 'e1_1', 'y0_1']"
      ]
     },
     "execution_count": 106,
     "metadata": {},
     "output_type": "execute_result"
    }
   ],
   "source": [
    "fish.derivatives_images.keys()"
   ]
  },
  {
   "cell_type": "code",
   "execution_count": 107,
   "metadata": {
    "collapsed": false
   },
   "outputs": [
    {
     "data": {
      "text/plain": [
       "<matplotlib.image.AxesImage at 0x10adea6d0>"
      ]
     },
     "execution_count": 107,
     "metadata": {},
     "output_type": "execute_result"
    },
    {
     "data": {
      "image/png": "[encoded data removed]",
      "text/plain": [
       "<matplotlib.figure.Figure at 0x10ad99f10>"
      ]
     },
     "metadata": {},
     "output_type": "display_data"
    }
   ],
   "source": [
    "plt.figure()\n",
    "plt.imshow(fish.derivatives_images['e2_1'])"
   ]
  },
  {
   "cell_type": "code",
   "execution_count": null,
   "metadata": {
    "collapsed": true
   },
   "outputs": [],
   "source": []
  },
  {
   "cell_type": "code",
   "execution_count": null,
   "metadata": {
    "collapsed": true
   },
   "outputs": [],
   "source": []
  }
 ],
 "metadata": {
  "kernelspec": {
   "display_name": "Python 2",
   "language": "python",
   "name": "python2"
  },
  "language_info": {
   "codemirror_mode": {
    "name": "ipython",
    "version": 2
   },
   "file_extension": ".py",
   "mimetype": "text/x-python",
   "name": "python",
   "nbconvert_exporter": "python",
   "pygments_lexer": "ipython2",
   "version": "2.7.11"
  }
 },
 "nbformat": 4,
 "nbformat_minor": 0
}
