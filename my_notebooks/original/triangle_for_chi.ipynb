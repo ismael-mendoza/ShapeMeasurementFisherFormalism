{
 "cells": [
  {
   "cell_type": "code",
   "execution_count": 1,
   "metadata": {
    "ExecuteTime": {
     "end_time": "2020-01-09T14:38:55.151850Z",
     "start_time": "2020-01-09T14:38:54.264241Z"
    },
    "scrolled": true
   },
   "outputs": [
    {
     "name": "stdout",
     "output_type": "stream",
     "text": [
      "Populating the interactive namespace from numpy and matplotlib\n"
     ]
    }
   ],
   "source": [
    "%pylab inline"
   ]
  },
  {
   "cell_type": "code",
   "execution_count": 2,
   "metadata": {
    "ExecuteTime": {
     "end_time": "2020-01-09T14:38:57.228544Z",
     "start_time": "2020-01-09T14:38:55.159759Z"
    }
   },
   "outputs": [],
   "source": [
    "from subprocess import Popen, PIPE, STDOUT\n",
    "import matplotlib.pyplot as plt\n",
    "import os\n",
    "from copy import deepcopy\n",
    "import galsim \n",
    "import corner \n",
    "\n",
    "from matplotlib.patches import Ellipse"
   ]
  },
  {
   "cell_type": "code",
   "execution_count": 3,
   "metadata": {
    "ExecuteTime": {
     "end_time": "2020-01-09T14:38:57.241544Z",
     "start_time": "2020-01-09T14:38:57.234712Z"
    }
   },
   "outputs": [],
   "source": [
    "#directories that would be using \n",
    "repo = '/nfs/slac/g/ki/ki19/deuce/AEGIS/ismael/SMFF'\n",
    "os.chdir(repo)"
   ]
  },
  {
   "cell_type": "code",
   "execution_count": 4,
   "metadata": {
    "ExecuteTime": {
     "end_time": "2020-01-09T14:39:02.680371Z",
     "start_time": "2020-01-09T14:39:02.661076Z"
    }
   },
   "outputs": [],
   "source": [
    "def showImage(image,ax=None,extent=None,vmin=None,vmax=None,origin='lower',cmap ='bwr'):\n",
    "    \n",
    "    if vmin == None: \n",
    "        vmin = -abs(image).max()\n",
    "    if vmax == None: \n",
    "        vmax = abs(image).max()\n",
    "    \n",
    "    \n",
    "    if ax is None: \n",
    "        return plt.imshow(image, cmap=cmap,vmax=vmax,vmin=vmin,interpolation='None',origin=origin, extent=extent)\n",
    "    else: \n",
    "        return ax.imshow(image, cmap=cmap,vmax=vmax,vmin=vmin,interpolation='None',origin=origin,extent=extent)"
   ]
  },
  {
   "cell_type": "code",
   "execution_count": 5,
   "metadata": {
    "ExecuteTime": {
     "end_time": "2020-01-09T14:39:03.168343Z",
     "start_time": "2020-01-09T14:39:03.157772Z"
    }
   },
   "outputs": [],
   "source": [
    "def plot_matrix(matrix, param_names): \n",
    "\n",
    "    fig = plt.figure(figsize=(20,20))\n",
    "    ax = fig.add_subplot(111)\n",
    "    n,_ = matrix.shape #assume square matrix\n",
    "    plt.xticks(list(plt.xticks()[0]), [None] + param_names)\n",
    "    plt.yticks(list(plt.yticks()[0]), [None] + param_names)\n",
    "    \n",
    "    plt.tick_params(labelsize=20)\n",
    "\n",
    "\n",
    "    ax.matshow(matrix, cmap=plt.cm.Blues)\n",
    "\n",
    "\n",
    "    for i in range(n):\n",
    "        for j in range(n):\n",
    "            c = matrix[j,i]\n",
    "            ax.text(i, j, '{:.2g}'.format(c), va='center', ha='center',size=20)"
   ]
  },
  {
   "cell_type": "code",
   "execution_count": 6,
   "metadata": {
    "ExecuteTime": {
     "end_time": "2020-01-09T14:39:04.491995Z",
     "start_time": "2020-01-09T14:39:04.485097Z"
    }
   },
   "outputs": [],
   "source": [
    "latex_names =[r'$\\rm{flux}$','$x_{0}$','$y_{0}$',r'$\\rm{HLR}$','$\\\\varepsilon_{1}$','$\\\\varepsilon_{2}$']"
   ]
  },
  {
   "cell_type": "code",
   "execution_count": 7,
   "metadata": {
    "ExecuteTime": {
     "end_time": "2020-01-09T14:39:04.937405Z",
     "start_time": "2020-01-09T14:39:04.931819Z"
    }
   },
   "outputs": [],
   "source": [
    "#plotting constants\n",
    "LINEWIDTH = 2\n",
    "AXIS_NUMBER_SIZE = 45 \n",
    "AXIS_LABEL_SIZE = 55 \n",
    "AXIS_WIDTH = 3\n",
    "AXIS_LENGTH = 12\n",
    "\n",
    "FIG_SIZE = 40 \n",
    "\n",
    "MARKER_SIZE = 14\n",
    "LINE_WIDTH = 5"
   ]
  },
  {
   "cell_type": "markdown",
   "metadata": {},
   "source": [
    "## Reloads "
   ]
  },
  {
   "cell_type": "code",
   "execution_count": 8,
   "metadata": {
    "ExecuteTime": {
     "end_time": "2020-01-09T14:39:07.043286Z",
     "start_time": "2020-01-09T14:39:06.998242Z"
    }
   },
   "outputs": [
    {
     "data": {
      "text/plain": [
       "<module 'corner' from '/nfs/slac/g/ki/ki19/deuce/AEGIS/ismael/miniconda3/envs/igalsim/lib/python3.7/site-packages/corner/__init__.py'>"
      ]
     },
     "execution_count": 8,
     "metadata": {},
     "output_type": "execute_result"
    }
   ],
   "source": [
    "from importlib import reload \n",
    "\n",
    "from analysis import defaults\n",
    "from analysis import fisher\n",
    "from analysis import galfun\n",
    "import corner\n",
    "\n",
    "reload(defaults)\n",
    "reload(fisher)\n",
    "reload(galfun)\n",
    "reload(corner)"
   ]
  },
  {
   "cell_type": "markdown",
   "metadata": {},
   "source": [
    "# Triangle "
   ]
  },
  {
   "cell_type": "code",
   "execution_count": 9,
   "metadata": {
    "ExecuteTime": {
     "end_time": "2020-01-09T14:39:17.099238Z",
     "start_time": "2020-01-09T14:39:17.081805Z"
    }
   },
   "outputs": [],
   "source": [
    "#parameters of galaxy to draw. \n",
    "model = 'gaussian' #possible options of model and psf_model are in documentation. \n",
    "psf_model = 'psf_gaussian'\n",
    "g1 = .2 #eps1 , eps2 \n",
    "g2 = .2 \n",
    "hlr = .7\n",
    "psf_fwhm = .7\n",
    "snr = 20.\n",
    "x0 = 1. \n",
    "y0 = 1. \n",
    "\n",
    "#project folder name where you want to write galaxy information \n",
    "project = 'project-tutorial-fits-chi4'\n",
    "\n",
    "\n",
    "#image parameters \n",
    "pixel_scale=.2 \n",
    "nx = 45\n",
    "ny = 45"
   ]
  },
  {
   "cell_type": "code",
   "execution_count": 10,
   "metadata": {
    "ExecuteTime": {
     "end_time": "2020-01-09T14:39:18.964094Z",
     "start_time": "2020-01-09T14:39:18.959819Z"
    }
   },
   "outputs": [],
   "source": [
    "number_fits = 40000 "
   ]
  },
  {
   "cell_type": "code",
   "execution_count": 11,
   "metadata": {
    "ExecuteTime": {
     "end_time": "2020-01-09T14:39:20.116759Z",
     "start_time": "2020-01-09T14:39:19.414200Z"
    }
   },
   "outputs": [],
   "source": [
    "g_parameters = galfun.GParameters(project) #extract parameters from file created by generate.py \n",
    "image_renderer = galfun.ImageRenderer(pixel_scale=pixel_scale,nx=nx,ny=ny)\n",
    "fish = fisher.Fisher(g_parameters=g_parameters,image_renderer=image_renderer, snr=snr)"
   ]
  },
  {
   "cell_type": "code",
   "execution_count": 12,
   "metadata": {
    "ExecuteTime": {
     "end_time": "2020-01-09T14:39:21.872705Z",
     "start_time": "2020-01-09T14:39:21.857498Z"
    }
   },
   "outputs": [
    {
     "data": {
      "text/plain": [
       "{'1': OrderedDict([('galaxy_model', 'gaussian'),\n",
       "              ('psf_model', 'psf_gaussian'),\n",
       "              ('flux', 1.0),\n",
       "              ('e1', 0.37037037037037035),\n",
       "              ('hlr', 0.7),\n",
       "              ('e2', 0.37037037037037035),\n",
       "              ('y0', 1.0),\n",
       "              ('x0', 1.0),\n",
       "              ('psf_flux', 1.0),\n",
       "              ('psf_fwhm', 0.7)])}"
      ]
     },
     "execution_count": 12,
     "metadata": {},
     "output_type": "execute_result"
    }
   ],
   "source": [
    "g_parameters.id_params"
   ]
  },
  {
   "cell_type": "code",
   "execution_count": 13,
   "metadata": {
    "ExecuteTime": {
     "end_time": "2020-01-09T14:41:53.027867Z",
     "start_time": "2020-01-09T14:39:34.225630Z"
    }
   },
   "outputs": [],
   "source": [
    "pulls,residuals,biases,pull_means,res_stds,pull_mins,pull_maxs,redchis = galfun.read_results(project,g_parameters,fish)"
   ]
  },
  {
   "cell_type": "code",
   "execution_count": 14,
   "metadata": {
    "ExecuteTime": {
     "end_time": "2020-01-09T14:41:53.044523Z",
     "start_time": "2020-01-09T14:41:53.035631Z"
    }
   },
   "outputs": [],
   "source": [
    "#constants needed for the plots below \n",
    "EXTENT_PULL = (-3, 3)\n",
    "BINS_PULL = 40\n",
    "SIG_DIGITS = 4\n",
    "\n",
    "number_fits = 40000 "
   ]
  },
  {
   "cell_type": "code",
   "execution_count": 15,
   "metadata": {
    "ExecuteTime": {
     "end_time": "2020-01-09T14:41:53.234877Z",
     "start_time": "2020-01-09T14:41:53.053702Z"
    }
   },
   "outputs": [],
   "source": [
    "def errorEllipseCor(centroid, cor_xy, alpha=1.52):\n",
    "    \"\"\"\n",
    "    Return a correlation ellipse according to Dan Coe paper arxiv.0906.4123.\n",
    "\n",
    "    We use correlations instead of covariances for the ellipses because most of\n",
    "    the parameters in our models have dimensions.\n",
    "    Confidence level by default is 68.3% -> alpha = 1.52 according to the same\n",
    "    paper.\n",
    "\n",
    "    Args:\n",
    "        centroid(:py:tuple): Position of the center of the ellipse in\n",
    "                             (x,y) form.\n",
    "\n",
    "    Returns:\n",
    "        An mpatch.Ellipse object\n",
    "    \"\"\"\n",
    "    import matplotlib.patches as mpatch\n",
    "\n",
    "    a = 1 + cor_xy\n",
    "    b = 1 - cor_xy\n",
    "    theta = 45\n",
    "    width = 2 * alpha * a\n",
    "    height = 2 * alpha * b\n",
    "\n",
    "    ellipse = mpatch.Ellipse(xy=centroid, width=width, height=height,\n",
    "                             angle=theta, edgecolor='r', fc='None', lw=2)\n",
    "\n",
    "    return ellipse"
   ]
  },
  {
   "cell_type": "code",
   "execution_count": 16,
   "metadata": {
    "ExecuteTime": {
     "end_time": "2020-01-09T14:41:53.420041Z",
     "start_time": "2020-01-09T14:41:53.243628Z"
    }
   },
   "outputs": [],
   "source": [
    "def fisher_prediction(params,bound_mins,bound_maxs,fish,number_fits):\n",
    "    \"\"\"Draws a triangle shaped plot with the fisher prediction for 68% confidence level\"\"\"\n",
    "    from scipy.stats import norm\n",
    "    \n",
    "    fish_figure = plt.figure(figsize=(11, 11)) #this is the figure containing the fisher predictions. \n",
    "    normalized_area = (EXTENT_PULL[1] - EXTENT_PULL[0]) * (number_fits / BINS_PULL)\n",
    "    param_names = fish.param_names\n",
    "    num_params = len(params)\n",
    "    color_hist = 'red'\n",
    "    for param in params:\n",
    "        # produce pull plot.\n",
    "\n",
    "        dim = num_params + 1  # for redchi add extra dimension.\n",
    "        #here we create our triangle. \n",
    "        ####i are the rows, or the y-axis, and j are the columns or the x-axis. \n",
    "        for i in range(dim):\n",
    "            for j in range(dim):\n",
    "                plt.rc('text', usetex=True)\n",
    "                if i < num_params and j < num_params and i >= j:\n",
    "                    param_i = param_names[i]\n",
    "                    param_j = param_names[j]\n",
    "                    sigma_i = math.sqrt(fish.covariance_matrix[param_i,param_i])\n",
    "                    sigma_j = math.sqrt(fish.covariance_matrix[param_j, param_j])\n",
    "                    mean = (fish.biases[param_j] / sigma_j,fish.biases[param_i] / sigma_i)\n",
    "                    cor_xy = fish.correlation_matrix[param_j, param_i]\n",
    "\n",
    "                    if i == j:\n",
    "                        sigma_gauss = 1 #normalize normal pdf.\n",
    "                        x = np.linspace(EXTENT_PULL[0], EXTENT_PULL[1], 1000)\n",
    "                        ax = fish_figure.add_subplot(dim, dim, dim * i + j + 1)\n",
    "                        ax.plot(x, normalized_area * norm.pdf(x, mean[0],sigma_gauss),color=color_hist)\n",
    "                        sigma_fisher = round(sigma_i, SIG_DIGITS)\n",
    "                        sigma_fits = round(res_stds[param_i], SIG_DIGITS)\n",
    "\n",
    "                        #error of bias_fits\n",
    "                        sigma_1 = round(sigma_fits / math.sqrt(number_fits),SIG_DIGITS)\n",
    "                        #error of sigma_fits\n",
    "                        sigma_2 = round(sigma_fits / math.sqrt(2*number_fits), SIG_DIGITS)\n",
    "                        bias_fisher = round(fish.biases[param_i],SIG_DIGITS)\n",
    "                        bias_fits = round(biases[param_i],SIG_DIGITS)\n",
    "                        \n",
    "                        if i == 4 or i==5: \n",
    "                            data = (\n",
    "                                  r'\\begin{eqnarray*}' +\n",
    "                                  r'\\sigma_{\\rm F}' + '&=&' +\n",
    "                                  '{:.4f}'.format(sigma_fisher) +\n",
    "                                  r'\\\\' +\n",
    "                                  r'\\sigma_{\\rm fit}' + '&=&' +\n",
    "                                  '{:.4f}'.format(sigma_fits) +\n",
    "                                  r'\\pm' +\n",
    "                                  '{:.4f}'.format(sigma_2) +\n",
    "                                  r'\\\\' +\n",
    "                                  r'b_{F}' + '&=&' +\n",
    "                                  '{:+.4f}'.format(bias_fisher) +\n",
    "                                  r'\\\\' +\n",
    "                                  r'b_{\\rm fit}' + '&=&' +\n",
    "                                  '{:+.4f}'.format(bias_fits) +\n",
    "                                  r'\\pm' +\n",
    "                                  '{:.4f}'.format(sigma_1) +\n",
    "                                  r'\\end{eqnarray*}')\n",
    "                            \n",
    "                        elif i == 1 or i==2:\n",
    "                            #avoid + or - in the 0s\n",
    "                            data = (\n",
    "                                  r'\\begin{eqnarray*}' +\n",
    "                                  r'\\sigma_{\\rm F}' + '&=&' +\n",
    "                                  '{:.4f}'.format(sigma_fisher) +\n",
    "                                  r'\\\\' +\n",
    "                                  r'\\sigma_{\\rm fit}' + '&=&' +\n",
    "                                  '{:.4f}'.format(sigma_fits) +\n",
    "                                  r'\\pm' +\n",
    "                                  '{:.4f}'.format(sigma_2) +\n",
    "                                  r'\\\\' +\n",
    "                                  r'b_{F}' + '&=&' +\n",
    "                                  '{:.4f}'.format(0) +\n",
    "                                  r'\\\\' +\n",
    "                                  r'b_{\\rm fit}' + '&=&' +\n",
    "                                  '{:+.4f}'.format(bias_fits) +\n",
    "                                  r'\\pm' +\n",
    "                                  '{:.4f}'.format(sigma_1) +\n",
    "                                  r'\\end{eqnarray*}')\n",
    "                        \n",
    "                        else: \n",
    "                            data = (\n",
    "                                  r'\\begin{eqnarray*}' +\n",
    "                                  r'\\sigma_{\\rm F}' + '&=&' +\n",
    "                                  '{:.4f}'.format(sigma_fisher) +\n",
    "                                  r'\\\\' +\n",
    "                                  r'\\sigma_{\\rm fit}' + '&=&' +\n",
    "                                  '{:.4f}'.format(sigma_fits) +\n",
    "                                  r'\\pm' +\n",
    "                                  '{:.4f}'.format(sigma_2) +\n",
    "                                  r'\\\\' +\n",
    "                                  r'b_{F}' + '&=&' +\n",
    "                                  '{:+.4f}'.format(bias_fisher) +\n",
    "                                  r'\\\\' +\n",
    "                                  r'b_{\\rm fit}' + '&=&' +\n",
    "                                  '{:+.4f}'.format(bias_fits) +\n",
    "                                  r'\\pm' +\n",
    "                                  '{:.4f}'.format(sigma_1) +\n",
    "                                  r'\\end{eqnarray*}')\n",
    "\n",
    "\n",
    "\n",
    "\n",
    "                        ax.text(1.725, .35, data,\n",
    "                                transform=ax.transAxes, ha='center',\n",
    "                                fontsize=10,\n",
    "                                fontweight='bold')\n",
    "\n",
    "                        # add green lines indicating bounds.\n",
    "                        ax.axvline(x=pull_mins[param_j], color='g')\n",
    "                        ax.axvline(x=pull_maxs[param_j], color='g')\n",
    "\n",
    "                    elif i > j:\n",
    "                        # draw an error_ellipse in off-diagonals axises.\n",
    "                        ellip = errorEllipseCor(mean, cor_xy)\n",
    "                        ax = fish_figure.add_subplot(dim, dim,\n",
    "                                                     dim * i + j + 1)\n",
    "                        ax.add_patch(ellip)\n",
    "\n",
    "                        ax.axhline(y=pull_mins[param_i], color='g')\n",
    "                        ax.axhline(y=pull_maxs[param_i], color='g')\n",
    "#                         ax.axhline(y=mean[1], color='y')\n",
    "\n",
    "\n",
    "                        ax.axvline(x=pull_mins[param_j], color='g')\n",
    "                        ax.axvline(x=pull_maxs[param_j], color='g')\n",
    "#                         ax.axvline(x=mean[0], color='y')\n",
    "\n",
    "                else:\n",
    "                    ax = fish_figure.add_subplot(dim,\n",
    "                                                 dim,\n",
    "                                                 dim * i + j + 1)\n",
    "            \n",
    "                ax.tick_params(axis='both', which='major', labelsize=14, pad=-2)\n",
    "    plt.rc('text', usetex=True)\n",
    "    return fish_figure"
   ]
  },
  {
   "cell_type": "code",
   "execution_count": 17,
   "metadata": {
    "ExecuteTime": {
     "end_time": "2020-01-09T14:42:09.383988Z",
     "start_time": "2020-01-09T14:41:53.427082Z"
    },
    "scrolled": false
   },
   "outputs": [
    {
     "name": "stderr",
     "output_type": "stream",
     "text": [
      "/nfs/slac/g/ki/ki19/deuce/AEGIS/ismael/miniconda3/envs/igalsim/lib/python3.7/site-packages/ipykernel_launcher.py:30: MatplotlibDeprecationWarning: Adding an axes using the same arguments as a previous axes currently reuses the earlier instance.  In a future version, a new instance will always be created and returned.  Meanwhile, this warning can be suppressed, and the future behavior ensured, by passing a unique label to each axes instance.\n",
      "/nfs/slac/g/ki/ki19/deuce/AEGIS/ismael/miniconda3/envs/igalsim/lib/python3.7/site-packages/ipykernel_launcher.py:134: MatplotlibDeprecationWarning: Adding an axes using the same arguments as a previous axes currently reuses the earlier instance.  In a future version, a new instance will always be created and returned.  Meanwhile, this warning can be suppressed, and the future behavior ensured, by passing a unique label to each axes instance.\n",
      "/nfs/slac/g/ki/ki19/deuce/AEGIS/ismael/miniconda3/envs/igalsim/lib/python3.7/site-packages/ipykernel_launcher.py:119: MatplotlibDeprecationWarning: Adding an axes using the same arguments as a previous axes currently reuses the earlier instance.  In a future version, a new instance will always be created and returned.  Meanwhile, this warning can be suppressed, and the future behavior ensured, by passing a unique label to each axes instance.\n"
     ]
    },
    {
     "data": {
      "image/png": "[encoded data removed]",
      "text/plain": [
       "<Figure size 792x792 with 49 Axes>"
      ]
     },
     "metadata": {
      "needs_background": "light"
     },
     "output_type": "display_data"
    }
   ],
   "source": [
    "fish_figure = fisher_prediction(pulls.keys(),pull_mins,pull_maxs,fish,number_fits)"
   ]
  },
  {
   "cell_type": "markdown",
   "metadata": {},
   "source": [
    "### Produce final corner plot "
   ]
  },
  {
   "cell_type": "code",
   "execution_count": 18,
   "metadata": {
    "ExecuteTime": {
     "end_time": "2020-01-09T14:42:09.407477Z",
     "start_time": "2020-01-09T14:42:09.389237Z"
    }
   },
   "outputs": [],
   "source": [
    "def fit_plots(pulls,pull_mins,pull_maxs,pull_means,redchis,fish,fish_figure=None):\n",
    "    \"\"\"Draws a triangle plot with fisher predictions overalayed and the results from the fittings.\"\"\"\n",
    "    param_names = fish.param_names\n",
    "    num_params = fish.num_params\n",
    "\n",
    "    # have to transform point.values to a convenient form for the plot.\n",
    "    extents = [EXTENT_PULL] * num_params + [(min(redchis),max(redchis))]\n",
    "    points_plot = []\n",
    "    truths = []\n",
    "    plot_names = []\n",
    "\n",
    "    for param in param_names:\n",
    "        if 'e1' in param:\n",
    "            tex_param = '$\\\\chi_{1}$'\n",
    "        elif 'e2' in param:\n",
    "            tex_param = '$\\\\chi_{2}$'\n",
    "        elif 'x0' in param:\n",
    "            tex_param = r'$x_{0}$'\n",
    "        elif 'y0' in param:\n",
    "            tex_param = r'$y_{0}$'\n",
    "        elif 'hlr' in param: \n",
    "            tex_param = r'$\\rm{HLR}$'\n",
    "        else:\n",
    "            tex_param = r'$\\rm{flux}$'\n",
    "        plot_names.append(tex_param)\n",
    "\n",
    "    plot_names.append(r'$\\chi^{2}/dof$')\n",
    "\n",
    "    for param in param_names:\n",
    "        points_plot.append(pulls[param])\n",
    "        truths.append(pull_means[param])\n",
    "\n",
    "    #chi2, redchi should be centered around 1\n",
    "    truths.append(1)\n",
    "    points_plot.append(redchis)\n",
    "    \n",
    "    hist2d_kwargs = {'plot_datapoints':True,'plot_density':False,'plot_contours':False, \n",
    "                     'no_fill_contours':False,'fill_contours':False, 'data_kwargs': {'alpha':0.1, 'markevery':4}}\n",
    "    #here we overlay the produced fish_figure and the triangle plot. \n",
    "    figure1 = corner.corner(np.array(points_plot).transpose(),\n",
    "                              bins=BINS_PULL,\n",
    "                              labels=plot_names,\n",
    "                              range=extents,\n",
    "                              truths=truths,\n",
    "                              show_titles=True,\n",
    "                              title_fmt=None, \n",
    "                              title_kwargs={\"fontsize\": 24},label_kwargs={\"fontsize\": 18, \"labelpad\":20},\n",
    "                              fig=fish_figure,hist_kwargs=None,**hist2d_kwargs)\n",
    "\n",
    "    figure1.subplots_adjust(hspace=.2, wspace=.2) #adjust to avoid overlap.\n",
    "    figure1.savefig(os.path.join(project, 'triangle_chi.pdf'))\n",
    "    print(os.path.join(project, 'triangle_chi.pdf'))\n",
    "    plt.rc('text', usetex=True)"
   ]
  },
  {
   "cell_type": "code",
   "execution_count": 19,
   "metadata": {
    "ExecuteTime": {
     "end_time": "2020-01-09T14:42:15.456471Z",
     "start_time": "2020-01-09T14:42:09.411501Z"
    }
   },
   "outputs": [
    {
     "name": "stdout",
     "output_type": "stream",
     "text": [
      "project-tutorial-fits-chi4/triangle_chi.pdf\n"
     ]
    }
   ],
   "source": [
    " #figure is saved in project folder because of its complexity. \n",
    "fit_plots(pulls,pull_mins,pull_maxs,pull_means,redchis,fish,fish_figure)"
   ]
  },
  {
   "cell_type": "code",
   "execution_count": null,
   "metadata": {},
   "outputs": [],
   "source": []
  },
  {
   "cell_type": "code",
   "execution_count": null,
   "metadata": {},
   "outputs": [],
   "source": []
  }
 ],
 "metadata": {
  "kernelspec": {
   "display_name": "Python 3",
   "language": "python",
   "name": "python3"
  },
  "language_info": {
   "codemirror_mode": {
    "name": "ipython",
    "version": 3
   },
   "file_extension": ".py",
   "mimetype": "text/x-python",
   "name": "python",
   "nbconvert_exporter": "python",
   "pygments_lexer": "ipython3",
   "version": "3.7.0"
  },
  "latex_envs": {
   "LaTeX_envs_menu_present": true,
   "autoclose": false,
   "autocomplete": true,
   "bibliofile": "biblio.bib",
   "cite_by": "apalike",
   "current_citInitial": 1,
   "eqLabelWithNumbers": true,
   "eqNumInitial": 1,
   "hotkeys": {
    "equation": "meta-shift-y"
   },
   "labels_anchors": false,
   "latex_user_defs": false,
   "report_style_numbering": false,
   "user_envs_cfg": false
  },
  "toc": {
   "base_numbering": 1,
   "nav_menu": {},
   "number_sections": true,
   "sideBar": true,
   "skip_h1_title": false,
   "title_cell": "Table of Contents",
   "title_sidebar": "Contents",
   "toc_cell": false,
   "toc_position": {},
   "toc_section_display": true,
   "toc_window_display": false
  }
 },
 "nbformat": 4,
 "nbformat_minor": 2
}
