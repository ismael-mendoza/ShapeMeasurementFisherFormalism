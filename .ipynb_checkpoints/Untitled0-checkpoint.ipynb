{
 "metadata": {
  "name": "",
  "signature": "sha256:8d76c746d572c7393cee4fbd9bf61e4a47dfe5062e17a18422cd70102e14d7a3"
 },
 "nbformat": 3,
 "nbformat_minor": 0,
 "worksheets": []
}