{
 "cells": [
  {
   "cell_type": "code",
   "execution_count": 39,
   "metadata": {
    "collapsed": true
   },
   "outputs": [],
   "source": [
    "import galsim \n",
    "from copy import deepcopy\n",
    "import numpy as np \n",
    "import matplotlib.pyplot as plt \n"
   ]
  },
  {
   "cell_type": "code",
   "execution_count": 40,
   "metadata": {
    "collapsed": true
   },
   "outputs": [],
   "source": [
    "def getSNR(img, var_noise): \n",
    "    return np.sqrt(np.sum(img.array**2)/var_noise)\n",
    "\n",
    "def getVarNoise(img, snr): \n",
    "    return np.sum(img.array**2/snr**2)"
   ]
  },
  {
   "cell_type": "code",
   "execution_count": 41,
   "metadata": {
    "collapsed": false
   },
   "outputs": [],
   "source": [
    "stamp1 = galsim.Image(40,40,scale=.2)\n",
    "stamp2 = galsim.Image(40,40,scale=.2)\n",
    "gal1 = galsim.Gaussian(1)\n",
    "gal2 = galsim.Gaussian(2)\n"
   ]
  },
  {
   "cell_type": "code",
   "execution_count": 42,
   "metadata": {
    "collapsed": true
   },
   "outputs": [],
   "source": [
    "img1 = gal1.drawImage(stamp1)\n",
    "img2 = gal2.drawImage(stamp2)"
   ]
  },
  {
   "cell_type": "code",
   "execution_count": 43,
   "metadata": {
    "collapsed": false
   },
   "outputs": [
    {
     "name": "stdout",
     "output_type": "stream",
     "text": [
      "snr 20.0\n",
      "var noise 1.09810025606e-05, true: 1.09810032882e-05\n"
     ]
    }
   ],
   "source": [
    "#get variance from first one\n",
    "noisy_image1 = deepcopy(img1)\n",
    "bd = galsim.BaseDeviate(0)\n",
    "noise = galsim.GaussianNoise(rng=bd,sigma=1)\n",
    "var_noise = noisy_image1.addNoiseSNR(noise,20,preserve_flux=True)\n",
    "\n",
    "#sanity chekcs: \n",
    "print 'snr {}'.format(getSNR(img1,var_noise))\n",
    "print 'var noise {}, true: {}'.format(getVarNoise(img1,20),var_noise)"
   ]
  },
  {
   "cell_type": "code",
   "execution_count": 44,
   "metadata": {
    "collapsed": false
   },
   "outputs": [
    {
     "name": "stdout",
     "output_type": "stream",
     "text": [
      "snr2: 10.0086746415\n"
     ]
    }
   ],
   "source": [
    "#for the other galaxy then: \n",
    "print 'snr2: {}'.format(getSNR(img2,var_noise))"
   ]
  },
  {
   "cell_type": "code",
   "execution_count": null,
   "metadata": {
    "collapsed": true
   },
   "outputs": [],
   "source": []
  }
 ],
 "metadata": {
  "kernelspec": {
   "display_name": "Python 2",
   "language": "python",
   "name": "python2"
  },
  "language_info": {
   "codemirror_mode": {
    "name": "ipython",
    "version": 2
   },
   "file_extension": ".py",
   "mimetype": "text/x-python",
   "name": "python",
   "nbconvert_exporter": "python",
   "pygments_lexer": "ipython2",
   "version": "2.7.11"
  }
 },
 "nbformat": 4,
 "nbformat_minor": 2
}
